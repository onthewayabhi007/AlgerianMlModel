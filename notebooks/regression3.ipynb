{
 "cells": [
  {
   "cell_type": "markdown",
   "metadata": {},
   "source": [
    "MODEL TRAINING OF THE CLEANED DATA SET OF ALGERIAN FOREST FIRE"
   ]
  },
  {
   "cell_type": "code",
   "execution_count": 138,
   "metadata": {},
   "outputs": [],
   "source": [
    "import numpy as np\n",
    "import pandas as pd\n",
    "import seaborn as sns\n",
    "import matplotlib.pyplot as plt\n",
    "import warnings \n",
    "warnings.filterwarnings('ignore')\n",
    "%matplotlib inline"
   ]
  },
  {
   "cell_type": "code",
   "execution_count": 139,
   "metadata": {},
   "outputs": [],
   "source": [
    "df =  pd.read_csv('Cleaned_Algerian_forest_fires_dataset.csv')"
   ]
  },
  {
   "cell_type": "code",
   "execution_count": 140,
   "metadata": {},
   "outputs": [
    {
     "data": {
      "text/html": [
       "<div>\n",
       "<style scoped>\n",
       "    .dataframe tbody tr th:only-of-type {\n",
       "        vertical-align: middle;\n",
       "    }\n",
       "\n",
       "    .dataframe tbody tr th {\n",
       "        vertical-align: top;\n",
       "    }\n",
       "\n",
       "    .dataframe thead th {\n",
       "        text-align: right;\n",
       "    }\n",
       "</style>\n",
       "<table border=\"1\" class=\"dataframe\">\n",
       "  <thead>\n",
       "    <tr style=\"text-align: right;\">\n",
       "      <th></th>\n",
       "      <th>day</th>\n",
       "      <th>month</th>\n",
       "      <th>year</th>\n",
       "      <th>Temperature</th>\n",
       "      <th>RH</th>\n",
       "      <th>Ws</th>\n",
       "      <th>Rain</th>\n",
       "      <th>FFMC</th>\n",
       "      <th>DMC</th>\n",
       "      <th>DC</th>\n",
       "      <th>ISI</th>\n",
       "      <th>BUI</th>\n",
       "      <th>FWI</th>\n",
       "      <th>Classes</th>\n",
       "      <th>Region</th>\n",
       "    </tr>\n",
       "  </thead>\n",
       "  <tbody>\n",
       "    <tr>\n",
       "      <th>0</th>\n",
       "      <td>1</td>\n",
       "      <td>6</td>\n",
       "      <td>2012</td>\n",
       "      <td>29</td>\n",
       "      <td>57</td>\n",
       "      <td>18</td>\n",
       "      <td>0.0</td>\n",
       "      <td>65.7</td>\n",
       "      <td>3.4</td>\n",
       "      <td>7.6</td>\n",
       "      <td>1.3</td>\n",
       "      <td>3.4</td>\n",
       "      <td>0.5</td>\n",
       "      <td>not fire</td>\n",
       "      <td>0</td>\n",
       "    </tr>\n",
       "    <tr>\n",
       "      <th>1</th>\n",
       "      <td>2</td>\n",
       "      <td>6</td>\n",
       "      <td>2012</td>\n",
       "      <td>29</td>\n",
       "      <td>61</td>\n",
       "      <td>13</td>\n",
       "      <td>1.3</td>\n",
       "      <td>64.4</td>\n",
       "      <td>4.1</td>\n",
       "      <td>7.6</td>\n",
       "      <td>1.0</td>\n",
       "      <td>3.9</td>\n",
       "      <td>0.4</td>\n",
       "      <td>not fire</td>\n",
       "      <td>0</td>\n",
       "    </tr>\n",
       "  </tbody>\n",
       "</table>\n",
       "</div>"
      ],
      "text/plain": [
       "   day  month  year  Temperature  RH  Ws  Rain  FFMC  DMC   DC  ISI  BUI  FWI  \\\n",
       "0    1      6  2012           29  57  18   0.0  65.7  3.4  7.6  1.3  3.4  0.5   \n",
       "1    2      6  2012           29  61  13   1.3  64.4  4.1  7.6  1.0  3.9  0.4   \n",
       "\n",
       "       Classes  Region  \n",
       "0  not fire          0  \n",
       "1  not fire          0  "
      ]
     },
     "execution_count": 140,
     "metadata": {},
     "output_type": "execute_result"
    }
   ],
   "source": [
    "df.head(2)"
   ]
  },
  {
   "cell_type": "code",
   "execution_count": 141,
   "metadata": {},
   "outputs": [
    {
     "data": {
      "text/plain": [
       "Index(['day', 'month', 'year', 'Temperature', 'RH', 'Ws', 'Rain', 'FFMC',\n",
       "       'DMC', 'DC', 'ISI', 'BUI', 'FWI', 'Classes', 'Region'],\n",
       "      dtype='object')"
      ]
     },
     "execution_count": 141,
     "metadata": {},
     "output_type": "execute_result"
    }
   ],
   "source": [
    "df.columns"
   ]
  },
  {
   "cell_type": "code",
   "execution_count": 142,
   "metadata": {},
   "outputs": [
    {
     "name": "stdout",
     "output_type": "stream",
     "text": [
      "<class 'pandas.core.frame.DataFrame'>\n",
      "RangeIndex: 243 entries, 0 to 242\n",
      "Data columns (total 15 columns):\n",
      " #   Column       Non-Null Count  Dtype  \n",
      "---  ------       --------------  -----  \n",
      " 0   day          243 non-null    int64  \n",
      " 1   month        243 non-null    int64  \n",
      " 2   year         243 non-null    int64  \n",
      " 3   Temperature  243 non-null    int64  \n",
      " 4   RH           243 non-null    int64  \n",
      " 5   Ws           243 non-null    int64  \n",
      " 6   Rain         243 non-null    float64\n",
      " 7   FFMC         243 non-null    float64\n",
      " 8   DMC          243 non-null    float64\n",
      " 9   DC           243 non-null    float64\n",
      " 10  ISI          243 non-null    float64\n",
      " 11  BUI          243 non-null    float64\n",
      " 12  FWI          243 non-null    float64\n",
      " 13  Classes      243 non-null    object \n",
      " 14  Region       243 non-null    int64  \n",
      "dtypes: float64(7), int64(7), object(1)\n",
      "memory usage: 28.6+ KB\n"
     ]
    }
   ],
   "source": [
    "df.info()"
   ]
  },
  {
   "cell_type": "code",
   "execution_count": 143,
   "metadata": {},
   "outputs": [
    {
     "data": {
      "text/html": [
       "<div>\n",
       "<style scoped>\n",
       "    .dataframe tbody tr th:only-of-type {\n",
       "        vertical-align: middle;\n",
       "    }\n",
       "\n",
       "    .dataframe tbody tr th {\n",
       "        vertical-align: top;\n",
       "    }\n",
       "\n",
       "    .dataframe thead th {\n",
       "        text-align: right;\n",
       "    }\n",
       "</style>\n",
       "<table border=\"1\" class=\"dataframe\">\n",
       "  <thead>\n",
       "    <tr style=\"text-align: right;\">\n",
       "      <th></th>\n",
       "      <th>day</th>\n",
       "      <th>month</th>\n",
       "      <th>year</th>\n",
       "      <th>Temperature</th>\n",
       "      <th>RH</th>\n",
       "      <th>Ws</th>\n",
       "      <th>Rain</th>\n",
       "      <th>FFMC</th>\n",
       "      <th>DMC</th>\n",
       "      <th>DC</th>\n",
       "      <th>ISI</th>\n",
       "      <th>BUI</th>\n",
       "      <th>FWI</th>\n",
       "      <th>Region</th>\n",
       "    </tr>\n",
       "  </thead>\n",
       "  <tbody>\n",
       "    <tr>\n",
       "      <th>count</th>\n",
       "      <td>243.000000</td>\n",
       "      <td>243.000000</td>\n",
       "      <td>243.0</td>\n",
       "      <td>243.000000</td>\n",
       "      <td>243.000000</td>\n",
       "      <td>243.000000</td>\n",
       "      <td>243.000000</td>\n",
       "      <td>243.000000</td>\n",
       "      <td>243.000000</td>\n",
       "      <td>243.000000</td>\n",
       "      <td>243.000000</td>\n",
       "      <td>243.000000</td>\n",
       "      <td>243.000000</td>\n",
       "      <td>243.000000</td>\n",
       "    </tr>\n",
       "    <tr>\n",
       "      <th>mean</th>\n",
       "      <td>15.761317</td>\n",
       "      <td>7.502058</td>\n",
       "      <td>2012.0</td>\n",
       "      <td>32.152263</td>\n",
       "      <td>62.041152</td>\n",
       "      <td>15.493827</td>\n",
       "      <td>0.762963</td>\n",
       "      <td>77.842387</td>\n",
       "      <td>14.680658</td>\n",
       "      <td>49.430864</td>\n",
       "      <td>4.742387</td>\n",
       "      <td>16.690535</td>\n",
       "      <td>7.035391</td>\n",
       "      <td>0.497942</td>\n",
       "    </tr>\n",
       "    <tr>\n",
       "      <th>std</th>\n",
       "      <td>8.842552</td>\n",
       "      <td>1.114793</td>\n",
       "      <td>0.0</td>\n",
       "      <td>3.628039</td>\n",
       "      <td>14.828160</td>\n",
       "      <td>2.811385</td>\n",
       "      <td>2.003207</td>\n",
       "      <td>14.349641</td>\n",
       "      <td>12.393040</td>\n",
       "      <td>47.665606</td>\n",
       "      <td>4.154234</td>\n",
       "      <td>14.228421</td>\n",
       "      <td>7.440568</td>\n",
       "      <td>0.501028</td>\n",
       "    </tr>\n",
       "    <tr>\n",
       "      <th>min</th>\n",
       "      <td>1.000000</td>\n",
       "      <td>6.000000</td>\n",
       "      <td>2012.0</td>\n",
       "      <td>22.000000</td>\n",
       "      <td>21.000000</td>\n",
       "      <td>6.000000</td>\n",
       "      <td>0.000000</td>\n",
       "      <td>28.600000</td>\n",
       "      <td>0.700000</td>\n",
       "      <td>6.900000</td>\n",
       "      <td>0.000000</td>\n",
       "      <td>1.100000</td>\n",
       "      <td>0.000000</td>\n",
       "      <td>0.000000</td>\n",
       "    </tr>\n",
       "    <tr>\n",
       "      <th>25%</th>\n",
       "      <td>8.000000</td>\n",
       "      <td>7.000000</td>\n",
       "      <td>2012.0</td>\n",
       "      <td>30.000000</td>\n",
       "      <td>52.500000</td>\n",
       "      <td>14.000000</td>\n",
       "      <td>0.000000</td>\n",
       "      <td>71.850000</td>\n",
       "      <td>5.800000</td>\n",
       "      <td>12.350000</td>\n",
       "      <td>1.400000</td>\n",
       "      <td>6.000000</td>\n",
       "      <td>0.700000</td>\n",
       "      <td>0.000000</td>\n",
       "    </tr>\n",
       "    <tr>\n",
       "      <th>50%</th>\n",
       "      <td>16.000000</td>\n",
       "      <td>8.000000</td>\n",
       "      <td>2012.0</td>\n",
       "      <td>32.000000</td>\n",
       "      <td>63.000000</td>\n",
       "      <td>15.000000</td>\n",
       "      <td>0.000000</td>\n",
       "      <td>83.300000</td>\n",
       "      <td>11.300000</td>\n",
       "      <td>33.100000</td>\n",
       "      <td>3.500000</td>\n",
       "      <td>12.400000</td>\n",
       "      <td>4.200000</td>\n",
       "      <td>0.000000</td>\n",
       "    </tr>\n",
       "    <tr>\n",
       "      <th>75%</th>\n",
       "      <td>23.000000</td>\n",
       "      <td>8.000000</td>\n",
       "      <td>2012.0</td>\n",
       "      <td>35.000000</td>\n",
       "      <td>73.500000</td>\n",
       "      <td>17.000000</td>\n",
       "      <td>0.500000</td>\n",
       "      <td>88.300000</td>\n",
       "      <td>20.800000</td>\n",
       "      <td>69.100000</td>\n",
       "      <td>7.250000</td>\n",
       "      <td>22.650000</td>\n",
       "      <td>11.450000</td>\n",
       "      <td>1.000000</td>\n",
       "    </tr>\n",
       "    <tr>\n",
       "      <th>max</th>\n",
       "      <td>31.000000</td>\n",
       "      <td>9.000000</td>\n",
       "      <td>2012.0</td>\n",
       "      <td>42.000000</td>\n",
       "      <td>90.000000</td>\n",
       "      <td>29.000000</td>\n",
       "      <td>16.800000</td>\n",
       "      <td>96.000000</td>\n",
       "      <td>65.900000</td>\n",
       "      <td>220.400000</td>\n",
       "      <td>19.000000</td>\n",
       "      <td>68.000000</td>\n",
       "      <td>31.100000</td>\n",
       "      <td>1.000000</td>\n",
       "    </tr>\n",
       "  </tbody>\n",
       "</table>\n",
       "</div>"
      ],
      "text/plain": [
       "              day       month    year  Temperature          RH          Ws  \\\n",
       "count  243.000000  243.000000   243.0   243.000000  243.000000  243.000000   \n",
       "mean    15.761317    7.502058  2012.0    32.152263   62.041152   15.493827   \n",
       "std      8.842552    1.114793     0.0     3.628039   14.828160    2.811385   \n",
       "min      1.000000    6.000000  2012.0    22.000000   21.000000    6.000000   \n",
       "25%      8.000000    7.000000  2012.0    30.000000   52.500000   14.000000   \n",
       "50%     16.000000    8.000000  2012.0    32.000000   63.000000   15.000000   \n",
       "75%     23.000000    8.000000  2012.0    35.000000   73.500000   17.000000   \n",
       "max     31.000000    9.000000  2012.0    42.000000   90.000000   29.000000   \n",
       "\n",
       "             Rain        FFMC         DMC          DC         ISI         BUI  \\\n",
       "count  243.000000  243.000000  243.000000  243.000000  243.000000  243.000000   \n",
       "mean     0.762963   77.842387   14.680658   49.430864    4.742387   16.690535   \n",
       "std      2.003207   14.349641   12.393040   47.665606    4.154234   14.228421   \n",
       "min      0.000000   28.600000    0.700000    6.900000    0.000000    1.100000   \n",
       "25%      0.000000   71.850000    5.800000   12.350000    1.400000    6.000000   \n",
       "50%      0.000000   83.300000   11.300000   33.100000    3.500000   12.400000   \n",
       "75%      0.500000   88.300000   20.800000   69.100000    7.250000   22.650000   \n",
       "max     16.800000   96.000000   65.900000  220.400000   19.000000   68.000000   \n",
       "\n",
       "              FWI      Region  \n",
       "count  243.000000  243.000000  \n",
       "mean     7.035391    0.497942  \n",
       "std      7.440568    0.501028  \n",
       "min      0.000000    0.000000  \n",
       "25%      0.700000    0.000000  \n",
       "50%      4.200000    0.000000  \n",
       "75%     11.450000    1.000000  \n",
       "max     31.100000    1.000000  "
      ]
     },
     "execution_count": 143,
     "metadata": {},
     "output_type": "execute_result"
    }
   ],
   "source": [
    "df.describe()"
   ]
  },
  {
   "cell_type": "code",
   "execution_count": 144,
   "metadata": {},
   "outputs": [],
   "source": [
    "# The day month and year don't have much dependencies in the determination of temprature \n",
    "# so we are going to drop the day month and year\n",
    "df.drop(['day','month','year'],axis = 1 ,inplace=True)"
   ]
  },
  {
   "cell_type": "code",
   "execution_count": 145,
   "metadata": {},
   "outputs": [
    {
     "data": {
      "text/html": [
       "<div>\n",
       "<style scoped>\n",
       "    .dataframe tbody tr th:only-of-type {\n",
       "        vertical-align: middle;\n",
       "    }\n",
       "\n",
       "    .dataframe tbody tr th {\n",
       "        vertical-align: top;\n",
       "    }\n",
       "\n",
       "    .dataframe thead th {\n",
       "        text-align: right;\n",
       "    }\n",
       "</style>\n",
       "<table border=\"1\" class=\"dataframe\">\n",
       "  <thead>\n",
       "    <tr style=\"text-align: right;\">\n",
       "      <th></th>\n",
       "      <th>Temperature</th>\n",
       "      <th>RH</th>\n",
       "      <th>Ws</th>\n",
       "      <th>Rain</th>\n",
       "      <th>FFMC</th>\n",
       "      <th>DMC</th>\n",
       "      <th>DC</th>\n",
       "      <th>ISI</th>\n",
       "      <th>BUI</th>\n",
       "      <th>FWI</th>\n",
       "      <th>Classes</th>\n",
       "      <th>Region</th>\n",
       "    </tr>\n",
       "  </thead>\n",
       "  <tbody>\n",
       "    <tr>\n",
       "      <th>0</th>\n",
       "      <td>29</td>\n",
       "      <td>57</td>\n",
       "      <td>18</td>\n",
       "      <td>0.0</td>\n",
       "      <td>65.7</td>\n",
       "      <td>3.4</td>\n",
       "      <td>7.6</td>\n",
       "      <td>1.3</td>\n",
       "      <td>3.4</td>\n",
       "      <td>0.5</td>\n",
       "      <td>not fire</td>\n",
       "      <td>0</td>\n",
       "    </tr>\n",
       "    <tr>\n",
       "      <th>1</th>\n",
       "      <td>29</td>\n",
       "      <td>61</td>\n",
       "      <td>13</td>\n",
       "      <td>1.3</td>\n",
       "      <td>64.4</td>\n",
       "      <td>4.1</td>\n",
       "      <td>7.6</td>\n",
       "      <td>1.0</td>\n",
       "      <td>3.9</td>\n",
       "      <td>0.4</td>\n",
       "      <td>not fire</td>\n",
       "      <td>0</td>\n",
       "    </tr>\n",
       "    <tr>\n",
       "      <th>2</th>\n",
       "      <td>26</td>\n",
       "      <td>82</td>\n",
       "      <td>22</td>\n",
       "      <td>13.1</td>\n",
       "      <td>47.1</td>\n",
       "      <td>2.5</td>\n",
       "      <td>7.1</td>\n",
       "      <td>0.3</td>\n",
       "      <td>2.7</td>\n",
       "      <td>0.1</td>\n",
       "      <td>not fire</td>\n",
       "      <td>0</td>\n",
       "    </tr>\n",
       "    <tr>\n",
       "      <th>3</th>\n",
       "      <td>25</td>\n",
       "      <td>89</td>\n",
       "      <td>13</td>\n",
       "      <td>2.5</td>\n",
       "      <td>28.6</td>\n",
       "      <td>1.3</td>\n",
       "      <td>6.9</td>\n",
       "      <td>0.0</td>\n",
       "      <td>1.7</td>\n",
       "      <td>0.0</td>\n",
       "      <td>not fire</td>\n",
       "      <td>0</td>\n",
       "    </tr>\n",
       "    <tr>\n",
       "      <th>4</th>\n",
       "      <td>27</td>\n",
       "      <td>77</td>\n",
       "      <td>16</td>\n",
       "      <td>0.0</td>\n",
       "      <td>64.8</td>\n",
       "      <td>3.0</td>\n",
       "      <td>14.2</td>\n",
       "      <td>1.2</td>\n",
       "      <td>3.9</td>\n",
       "      <td>0.5</td>\n",
       "      <td>not fire</td>\n",
       "      <td>0</td>\n",
       "    </tr>\n",
       "  </tbody>\n",
       "</table>\n",
       "</div>"
      ],
      "text/plain": [
       "   Temperature  RH  Ws  Rain  FFMC  DMC    DC  ISI  BUI  FWI      Classes  \\\n",
       "0           29  57  18   0.0  65.7  3.4   7.6  1.3  3.4  0.5  not fire      \n",
       "1           29  61  13   1.3  64.4  4.1   7.6  1.0  3.9  0.4  not fire      \n",
       "2           26  82  22  13.1  47.1  2.5   7.1  0.3  2.7  0.1  not fire      \n",
       "3           25  89  13   2.5  28.6  1.3   6.9  0.0  1.7  0.0  not fire      \n",
       "4           27  77  16   0.0  64.8  3.0  14.2  1.2  3.9  0.5  not fire      \n",
       "\n",
       "   Region  \n",
       "0       0  \n",
       "1       0  \n",
       "2       0  \n",
       "3       0  \n",
       "4       0  "
      ]
     },
     "execution_count": 145,
     "metadata": {},
     "output_type": "execute_result"
    }
   ],
   "source": [
    "df.head()"
   ]
  },
  {
   "cell_type": "code",
   "execution_count": 146,
   "metadata": {},
   "outputs": [
    {
     "data": {
      "text/plain": [
       "fire             131\n",
       "not fire         101\n",
       "fire               4\n",
       "fire               2\n",
       "not fire           2\n",
       "not fire           1\n",
       "not fire           1\n",
       "not fire           1\n",
       "Name: Classes, dtype: int64"
      ]
     },
     "execution_count": 146,
     "metadata": {},
     "output_type": "execute_result"
    }
   ],
   "source": [
    "df['Classes'].value_counts()"
   ]
  },
  {
   "cell_type": "code",
   "execution_count": 147,
   "metadata": {},
   "outputs": [],
   "source": [
    "## Encoding the Classes feature as 0 for not fire and 1 for fire\n",
    "df['Classes'] = np.where(df['Classes'].str.contains('not fire'),0,1)\n"
   ]
  },
  {
   "cell_type": "code",
   "execution_count": 148,
   "metadata": {},
   "outputs": [
    {
     "data": {
      "text/html": [
       "<div>\n",
       "<style scoped>\n",
       "    .dataframe tbody tr th:only-of-type {\n",
       "        vertical-align: middle;\n",
       "    }\n",
       "\n",
       "    .dataframe tbody tr th {\n",
       "        vertical-align: top;\n",
       "    }\n",
       "\n",
       "    .dataframe thead th {\n",
       "        text-align: right;\n",
       "    }\n",
       "</style>\n",
       "<table border=\"1\" class=\"dataframe\">\n",
       "  <thead>\n",
       "    <tr style=\"text-align: right;\">\n",
       "      <th></th>\n",
       "      <th>Temperature</th>\n",
       "      <th>RH</th>\n",
       "      <th>Ws</th>\n",
       "      <th>Rain</th>\n",
       "      <th>FFMC</th>\n",
       "      <th>DMC</th>\n",
       "      <th>DC</th>\n",
       "      <th>ISI</th>\n",
       "      <th>BUI</th>\n",
       "      <th>FWI</th>\n",
       "      <th>Classes</th>\n",
       "      <th>Region</th>\n",
       "    </tr>\n",
       "  </thead>\n",
       "  <tbody>\n",
       "    <tr>\n",
       "      <th>0</th>\n",
       "      <td>29</td>\n",
       "      <td>57</td>\n",
       "      <td>18</td>\n",
       "      <td>0.0</td>\n",
       "      <td>65.7</td>\n",
       "      <td>3.4</td>\n",
       "      <td>7.6</td>\n",
       "      <td>1.3</td>\n",
       "      <td>3.4</td>\n",
       "      <td>0.5</td>\n",
       "      <td>0</td>\n",
       "      <td>0</td>\n",
       "    </tr>\n",
       "    <tr>\n",
       "      <th>1</th>\n",
       "      <td>29</td>\n",
       "      <td>61</td>\n",
       "      <td>13</td>\n",
       "      <td>1.3</td>\n",
       "      <td>64.4</td>\n",
       "      <td>4.1</td>\n",
       "      <td>7.6</td>\n",
       "      <td>1.0</td>\n",
       "      <td>3.9</td>\n",
       "      <td>0.4</td>\n",
       "      <td>0</td>\n",
       "      <td>0</td>\n",
       "    </tr>\n",
       "    <tr>\n",
       "      <th>2</th>\n",
       "      <td>26</td>\n",
       "      <td>82</td>\n",
       "      <td>22</td>\n",
       "      <td>13.1</td>\n",
       "      <td>47.1</td>\n",
       "      <td>2.5</td>\n",
       "      <td>7.1</td>\n",
       "      <td>0.3</td>\n",
       "      <td>2.7</td>\n",
       "      <td>0.1</td>\n",
       "      <td>0</td>\n",
       "      <td>0</td>\n",
       "    </tr>\n",
       "    <tr>\n",
       "      <th>3</th>\n",
       "      <td>25</td>\n",
       "      <td>89</td>\n",
       "      <td>13</td>\n",
       "      <td>2.5</td>\n",
       "      <td>28.6</td>\n",
       "      <td>1.3</td>\n",
       "      <td>6.9</td>\n",
       "      <td>0.0</td>\n",
       "      <td>1.7</td>\n",
       "      <td>0.0</td>\n",
       "      <td>0</td>\n",
       "      <td>0</td>\n",
       "    </tr>\n",
       "    <tr>\n",
       "      <th>4</th>\n",
       "      <td>27</td>\n",
       "      <td>77</td>\n",
       "      <td>16</td>\n",
       "      <td>0.0</td>\n",
       "      <td>64.8</td>\n",
       "      <td>3.0</td>\n",
       "      <td>14.2</td>\n",
       "      <td>1.2</td>\n",
       "      <td>3.9</td>\n",
       "      <td>0.5</td>\n",
       "      <td>0</td>\n",
       "      <td>0</td>\n",
       "    </tr>\n",
       "  </tbody>\n",
       "</table>\n",
       "</div>"
      ],
      "text/plain": [
       "   Temperature  RH  Ws  Rain  FFMC  DMC    DC  ISI  BUI  FWI  Classes  Region\n",
       "0           29  57  18   0.0  65.7  3.4   7.6  1.3  3.4  0.5        0       0\n",
       "1           29  61  13   1.3  64.4  4.1   7.6  1.0  3.9  0.4        0       0\n",
       "2           26  82  22  13.1  47.1  2.5   7.1  0.3  2.7  0.1        0       0\n",
       "3           25  89  13   2.5  28.6  1.3   6.9  0.0  1.7  0.0        0       0\n",
       "4           27  77  16   0.0  64.8  3.0  14.2  1.2  3.9  0.5        0       0"
      ]
     },
     "execution_count": 148,
     "metadata": {},
     "output_type": "execute_result"
    }
   ],
   "source": [
    "df.head()"
   ]
  },
  {
   "cell_type": "code",
   "execution_count": 149,
   "metadata": {},
   "outputs": [
    {
     "data": {
      "text/html": [
       "<div>\n",
       "<style scoped>\n",
       "    .dataframe tbody tr th:only-of-type {\n",
       "        vertical-align: middle;\n",
       "    }\n",
       "\n",
       "    .dataframe tbody tr th {\n",
       "        vertical-align: top;\n",
       "    }\n",
       "\n",
       "    .dataframe thead th {\n",
       "        text-align: right;\n",
       "    }\n",
       "</style>\n",
       "<table border=\"1\" class=\"dataframe\">\n",
       "  <thead>\n",
       "    <tr style=\"text-align: right;\">\n",
       "      <th></th>\n",
       "      <th>Temperature</th>\n",
       "      <th>RH</th>\n",
       "      <th>Ws</th>\n",
       "      <th>Rain</th>\n",
       "      <th>FFMC</th>\n",
       "      <th>DMC</th>\n",
       "      <th>DC</th>\n",
       "      <th>ISI</th>\n",
       "      <th>BUI</th>\n",
       "      <th>FWI</th>\n",
       "      <th>Classes</th>\n",
       "      <th>Region</th>\n",
       "    </tr>\n",
       "  </thead>\n",
       "  <tbody>\n",
       "    <tr>\n",
       "      <th>238</th>\n",
       "      <td>30</td>\n",
       "      <td>65</td>\n",
       "      <td>14</td>\n",
       "      <td>0.0</td>\n",
       "      <td>85.4</td>\n",
       "      <td>16.0</td>\n",
       "      <td>44.5</td>\n",
       "      <td>4.5</td>\n",
       "      <td>16.9</td>\n",
       "      <td>6.5</td>\n",
       "      <td>1</td>\n",
       "      <td>1</td>\n",
       "    </tr>\n",
       "    <tr>\n",
       "      <th>239</th>\n",
       "      <td>28</td>\n",
       "      <td>87</td>\n",
       "      <td>15</td>\n",
       "      <td>4.4</td>\n",
       "      <td>41.1</td>\n",
       "      <td>6.5</td>\n",
       "      <td>8.0</td>\n",
       "      <td>0.1</td>\n",
       "      <td>6.2</td>\n",
       "      <td>0.0</td>\n",
       "      <td>0</td>\n",
       "      <td>1</td>\n",
       "    </tr>\n",
       "    <tr>\n",
       "      <th>240</th>\n",
       "      <td>27</td>\n",
       "      <td>87</td>\n",
       "      <td>29</td>\n",
       "      <td>0.5</td>\n",
       "      <td>45.9</td>\n",
       "      <td>3.5</td>\n",
       "      <td>7.9</td>\n",
       "      <td>0.4</td>\n",
       "      <td>3.4</td>\n",
       "      <td>0.2</td>\n",
       "      <td>0</td>\n",
       "      <td>1</td>\n",
       "    </tr>\n",
       "    <tr>\n",
       "      <th>241</th>\n",
       "      <td>24</td>\n",
       "      <td>54</td>\n",
       "      <td>18</td>\n",
       "      <td>0.1</td>\n",
       "      <td>79.7</td>\n",
       "      <td>4.3</td>\n",
       "      <td>15.2</td>\n",
       "      <td>1.7</td>\n",
       "      <td>5.1</td>\n",
       "      <td>0.7</td>\n",
       "      <td>0</td>\n",
       "      <td>1</td>\n",
       "    </tr>\n",
       "    <tr>\n",
       "      <th>242</th>\n",
       "      <td>24</td>\n",
       "      <td>64</td>\n",
       "      <td>15</td>\n",
       "      <td>0.2</td>\n",
       "      <td>67.3</td>\n",
       "      <td>3.8</td>\n",
       "      <td>16.5</td>\n",
       "      <td>1.2</td>\n",
       "      <td>4.8</td>\n",
       "      <td>0.5</td>\n",
       "      <td>0</td>\n",
       "      <td>1</td>\n",
       "    </tr>\n",
       "  </tbody>\n",
       "</table>\n",
       "</div>"
      ],
      "text/plain": [
       "     Temperature  RH  Ws  Rain  FFMC   DMC    DC  ISI   BUI  FWI  Classes  \\\n",
       "238           30  65  14   0.0  85.4  16.0  44.5  4.5  16.9  6.5        1   \n",
       "239           28  87  15   4.4  41.1   6.5   8.0  0.1   6.2  0.0        0   \n",
       "240           27  87  29   0.5  45.9   3.5   7.9  0.4   3.4  0.2        0   \n",
       "241           24  54  18   0.1  79.7   4.3  15.2  1.7   5.1  0.7        0   \n",
       "242           24  64  15   0.2  67.3   3.8  16.5  1.2   4.8  0.5        0   \n",
       "\n",
       "     Region  \n",
       "238       1  \n",
       "239       1  \n",
       "240       1  \n",
       "241       1  \n",
       "242       1  "
      ]
     },
     "execution_count": 149,
     "metadata": {},
     "output_type": "execute_result"
    }
   ],
   "source": [
    "df.tail()"
   ]
  },
  {
   "cell_type": "code",
   "execution_count": 150,
   "metadata": {},
   "outputs": [
    {
     "data": {
      "text/plain": [
       "1    137\n",
       "0    106\n",
       "Name: Classes, dtype: int64"
      ]
     },
     "execution_count": 150,
     "metadata": {},
     "output_type": "execute_result"
    }
   ],
   "source": [
    "df['Classes'].value_counts()"
   ]
  },
  {
   "cell_type": "code",
   "execution_count": 151,
   "metadata": {},
   "outputs": [],
   "source": [
    "## Let's now train the model such that we consider Fire Weather Index (FWI) as the output that \n",
    "## is the dependent feature\n",
    "\n",
    "X = df.drop(['FWI'],axis=1) # Independent feature\n",
    "y = df['FWI'] #Dependent Feature"
   ]
  },
  {
   "cell_type": "code",
   "execution_count": 152,
   "metadata": {},
   "outputs": [
    {
     "data": {
      "text/html": [
       "<div>\n",
       "<style scoped>\n",
       "    .dataframe tbody tr th:only-of-type {\n",
       "        vertical-align: middle;\n",
       "    }\n",
       "\n",
       "    .dataframe tbody tr th {\n",
       "        vertical-align: top;\n",
       "    }\n",
       "\n",
       "    .dataframe thead th {\n",
       "        text-align: right;\n",
       "    }\n",
       "</style>\n",
       "<table border=\"1\" class=\"dataframe\">\n",
       "  <thead>\n",
       "    <tr style=\"text-align: right;\">\n",
       "      <th></th>\n",
       "      <th>Temperature</th>\n",
       "      <th>RH</th>\n",
       "      <th>Ws</th>\n",
       "      <th>Rain</th>\n",
       "      <th>FFMC</th>\n",
       "      <th>DMC</th>\n",
       "      <th>DC</th>\n",
       "      <th>ISI</th>\n",
       "      <th>BUI</th>\n",
       "      <th>Classes</th>\n",
       "      <th>Region</th>\n",
       "    </tr>\n",
       "  </thead>\n",
       "  <tbody>\n",
       "    <tr>\n",
       "      <th>0</th>\n",
       "      <td>29</td>\n",
       "      <td>57</td>\n",
       "      <td>18</td>\n",
       "      <td>0.0</td>\n",
       "      <td>65.7</td>\n",
       "      <td>3.4</td>\n",
       "      <td>7.6</td>\n",
       "      <td>1.3</td>\n",
       "      <td>3.4</td>\n",
       "      <td>0</td>\n",
       "      <td>0</td>\n",
       "    </tr>\n",
       "    <tr>\n",
       "      <th>1</th>\n",
       "      <td>29</td>\n",
       "      <td>61</td>\n",
       "      <td>13</td>\n",
       "      <td>1.3</td>\n",
       "      <td>64.4</td>\n",
       "      <td>4.1</td>\n",
       "      <td>7.6</td>\n",
       "      <td>1.0</td>\n",
       "      <td>3.9</td>\n",
       "      <td>0</td>\n",
       "      <td>0</td>\n",
       "    </tr>\n",
       "    <tr>\n",
       "      <th>2</th>\n",
       "      <td>26</td>\n",
       "      <td>82</td>\n",
       "      <td>22</td>\n",
       "      <td>13.1</td>\n",
       "      <td>47.1</td>\n",
       "      <td>2.5</td>\n",
       "      <td>7.1</td>\n",
       "      <td>0.3</td>\n",
       "      <td>2.7</td>\n",
       "      <td>0</td>\n",
       "      <td>0</td>\n",
       "    </tr>\n",
       "    <tr>\n",
       "      <th>3</th>\n",
       "      <td>25</td>\n",
       "      <td>89</td>\n",
       "      <td>13</td>\n",
       "      <td>2.5</td>\n",
       "      <td>28.6</td>\n",
       "      <td>1.3</td>\n",
       "      <td>6.9</td>\n",
       "      <td>0.0</td>\n",
       "      <td>1.7</td>\n",
       "      <td>0</td>\n",
       "      <td>0</td>\n",
       "    </tr>\n",
       "    <tr>\n",
       "      <th>4</th>\n",
       "      <td>27</td>\n",
       "      <td>77</td>\n",
       "      <td>16</td>\n",
       "      <td>0.0</td>\n",
       "      <td>64.8</td>\n",
       "      <td>3.0</td>\n",
       "      <td>14.2</td>\n",
       "      <td>1.2</td>\n",
       "      <td>3.9</td>\n",
       "      <td>0</td>\n",
       "      <td>0</td>\n",
       "    </tr>\n",
       "  </tbody>\n",
       "</table>\n",
       "</div>"
      ],
      "text/plain": [
       "   Temperature  RH  Ws  Rain  FFMC  DMC    DC  ISI  BUI  Classes  Region\n",
       "0           29  57  18   0.0  65.7  3.4   7.6  1.3  3.4        0       0\n",
       "1           29  61  13   1.3  64.4  4.1   7.6  1.0  3.9        0       0\n",
       "2           26  82  22  13.1  47.1  2.5   7.1  0.3  2.7        0       0\n",
       "3           25  89  13   2.5  28.6  1.3   6.9  0.0  1.7        0       0\n",
       "4           27  77  16   0.0  64.8  3.0  14.2  1.2  3.9        0       0"
      ]
     },
     "execution_count": 152,
     "metadata": {},
     "output_type": "execute_result"
    }
   ],
   "source": [
    "X.head()"
   ]
  },
  {
   "cell_type": "code",
   "execution_count": 153,
   "metadata": {},
   "outputs": [
    {
     "data": {
      "text/plain": [
       "0    0.5\n",
       "1    0.4\n",
       "2    0.1\n",
       "3    0.0\n",
       "4    0.5\n",
       "Name: FWI, dtype: float64"
      ]
     },
     "execution_count": 153,
     "metadata": {},
     "output_type": "execute_result"
    }
   ],
   "source": [
    "y.head()"
   ]
  },
  {
   "cell_type": "code",
   "execution_count": 154,
   "metadata": {},
   "outputs": [],
   "source": [
    "## Train Test split\n",
    "from sklearn.model_selection import train_test_split\n",
    "\n",
    "Xtrain , Xtest , yTrain , yTest  = train_test_split(X,y,test_size=0.25,random_state=12)"
   ]
  },
  {
   "cell_type": "code",
   "execution_count": 155,
   "metadata": {},
   "outputs": [
    {
     "data": {
      "text/plain": [
       "((182, 11), (61, 11), (182,), (61,))"
      ]
     },
     "execution_count": 155,
     "metadata": {},
     "output_type": "execute_result"
    }
   ],
   "source": [
    "Xtrain.shape, Xtest.shape, yTrain.shape, yTest.shape"
   ]
  },
  {
   "cell_type": "code",
   "execution_count": 156,
   "metadata": {},
   "outputs": [
    {
     "data": {
      "text/html": [
       "<div>\n",
       "<style scoped>\n",
       "    .dataframe tbody tr th:only-of-type {\n",
       "        vertical-align: middle;\n",
       "    }\n",
       "\n",
       "    .dataframe tbody tr th {\n",
       "        vertical-align: top;\n",
       "    }\n",
       "\n",
       "    .dataframe thead th {\n",
       "        text-align: right;\n",
       "    }\n",
       "</style>\n",
       "<table border=\"1\" class=\"dataframe\">\n",
       "  <thead>\n",
       "    <tr style=\"text-align: right;\">\n",
       "      <th></th>\n",
       "      <th>Temperature</th>\n",
       "      <th>RH</th>\n",
       "      <th>Ws</th>\n",
       "      <th>Rain</th>\n",
       "      <th>FFMC</th>\n",
       "      <th>DMC</th>\n",
       "      <th>DC</th>\n",
       "      <th>ISI</th>\n",
       "      <th>BUI</th>\n",
       "      <th>Classes</th>\n",
       "      <th>Region</th>\n",
       "    </tr>\n",
       "  </thead>\n",
       "  <tbody>\n",
       "    <tr>\n",
       "      <th>Temperature</th>\n",
       "      <td>1.000000</td>\n",
       "      <td>-0.664106</td>\n",
       "      <td>-0.284285</td>\n",
       "      <td>-0.332493</td>\n",
       "      <td>0.690245</td>\n",
       "      <td>0.494657</td>\n",
       "      <td>0.398345</td>\n",
       "      <td>0.605002</td>\n",
       "      <td>0.473480</td>\n",
       "      <td>0.532604</td>\n",
       "      <td>0.272439</td>\n",
       "    </tr>\n",
       "    <tr>\n",
       "      <th>RH</th>\n",
       "      <td>-0.664106</td>\n",
       "      <td>1.000000</td>\n",
       "      <td>0.216906</td>\n",
       "      <td>0.216026</td>\n",
       "      <td>-0.645477</td>\n",
       "      <td>-0.399374</td>\n",
       "      <td>-0.218684</td>\n",
       "      <td>-0.682805</td>\n",
       "      <td>-0.345577</td>\n",
       "      <td>-0.447035</td>\n",
       "      <td>-0.395779</td>\n",
       "    </tr>\n",
       "    <tr>\n",
       "      <th>Ws</th>\n",
       "      <td>-0.284285</td>\n",
       "      <td>0.216906</td>\n",
       "      <td>1.000000</td>\n",
       "      <td>0.198263</td>\n",
       "      <td>-0.164421</td>\n",
       "      <td>-0.001988</td>\n",
       "      <td>0.051831</td>\n",
       "      <td>0.034626</td>\n",
       "      <td>0.020510</td>\n",
       "      <td>-0.015691</td>\n",
       "      <td>-0.120777</td>\n",
       "    </tr>\n",
       "    <tr>\n",
       "      <th>Rain</th>\n",
       "      <td>-0.332493</td>\n",
       "      <td>0.216026</td>\n",
       "      <td>0.198263</td>\n",
       "      <td>1.000000</td>\n",
       "      <td>-0.545232</td>\n",
       "      <td>-0.287017</td>\n",
       "      <td>-0.296831</td>\n",
       "      <td>-0.351914</td>\n",
       "      <td>-0.298460</td>\n",
       "      <td>-0.365089</td>\n",
       "      <td>-0.019413</td>\n",
       "    </tr>\n",
       "    <tr>\n",
       "      <th>FFMC</th>\n",
       "      <td>0.690245</td>\n",
       "      <td>-0.645477</td>\n",
       "      <td>-0.164421</td>\n",
       "      <td>-0.545232</td>\n",
       "      <td>1.000000</td>\n",
       "      <td>0.597528</td>\n",
       "      <td>0.500046</td>\n",
       "      <td>0.751666</td>\n",
       "      <td>0.586264</td>\n",
       "      <td>0.759940</td>\n",
       "      <td>0.180944</td>\n",
       "    </tr>\n",
       "    <tr>\n",
       "      <th>DMC</th>\n",
       "      <td>0.494657</td>\n",
       "      <td>-0.399374</td>\n",
       "      <td>-0.001988</td>\n",
       "      <td>-0.287017</td>\n",
       "      <td>0.597528</td>\n",
       "      <td>1.000000</td>\n",
       "      <td>0.867837</td>\n",
       "      <td>0.683809</td>\n",
       "      <td>0.981026</td>\n",
       "      <td>0.578138</td>\n",
       "      <td>0.192492</td>\n",
       "    </tr>\n",
       "    <tr>\n",
       "      <th>DC</th>\n",
       "      <td>0.398345</td>\n",
       "      <td>-0.218684</td>\n",
       "      <td>0.051831</td>\n",
       "      <td>-0.296831</td>\n",
       "      <td>0.500046</td>\n",
       "      <td>0.867837</td>\n",
       "      <td>1.000000</td>\n",
       "      <td>0.502461</td>\n",
       "      <td>0.937199</td>\n",
       "      <td>0.501794</td>\n",
       "      <td>-0.080379</td>\n",
       "    </tr>\n",
       "    <tr>\n",
       "      <th>ISI</th>\n",
       "      <td>0.605002</td>\n",
       "      <td>-0.682805</td>\n",
       "      <td>0.034626</td>\n",
       "      <td>-0.351914</td>\n",
       "      <td>0.751666</td>\n",
       "      <td>0.683809</td>\n",
       "      <td>0.502461</td>\n",
       "      <td>1.000000</td>\n",
       "      <td>0.648213</td>\n",
       "      <td>0.755806</td>\n",
       "      <td>0.258948</td>\n",
       "    </tr>\n",
       "    <tr>\n",
       "      <th>BUI</th>\n",
       "      <td>0.473480</td>\n",
       "      <td>-0.345577</td>\n",
       "      <td>0.020510</td>\n",
       "      <td>-0.298460</td>\n",
       "      <td>0.586264</td>\n",
       "      <td>0.981026</td>\n",
       "      <td>0.937199</td>\n",
       "      <td>0.648213</td>\n",
       "      <td>1.000000</td>\n",
       "      <td>0.580292</td>\n",
       "      <td>0.087681</td>\n",
       "    </tr>\n",
       "    <tr>\n",
       "      <th>Classes</th>\n",
       "      <td>0.532604</td>\n",
       "      <td>-0.447035</td>\n",
       "      <td>-0.015691</td>\n",
       "      <td>-0.365089</td>\n",
       "      <td>0.759940</td>\n",
       "      <td>0.578138</td>\n",
       "      <td>0.501794</td>\n",
       "      <td>0.755806</td>\n",
       "      <td>0.580292</td>\n",
       "      <td>1.000000</td>\n",
       "      <td>0.125855</td>\n",
       "    </tr>\n",
       "    <tr>\n",
       "      <th>Region</th>\n",
       "      <td>0.272439</td>\n",
       "      <td>-0.395779</td>\n",
       "      <td>-0.120777</td>\n",
       "      <td>-0.019413</td>\n",
       "      <td>0.180944</td>\n",
       "      <td>0.192492</td>\n",
       "      <td>-0.080379</td>\n",
       "      <td>0.258948</td>\n",
       "      <td>0.087681</td>\n",
       "      <td>0.125855</td>\n",
       "      <td>1.000000</td>\n",
       "    </tr>\n",
       "  </tbody>\n",
       "</table>\n",
       "</div>"
      ],
      "text/plain": [
       "             Temperature        RH        Ws      Rain      FFMC       DMC  \\\n",
       "Temperature     1.000000 -0.664106 -0.284285 -0.332493  0.690245  0.494657   \n",
       "RH             -0.664106  1.000000  0.216906  0.216026 -0.645477 -0.399374   \n",
       "Ws             -0.284285  0.216906  1.000000  0.198263 -0.164421 -0.001988   \n",
       "Rain           -0.332493  0.216026  0.198263  1.000000 -0.545232 -0.287017   \n",
       "FFMC            0.690245 -0.645477 -0.164421 -0.545232  1.000000  0.597528   \n",
       "DMC             0.494657 -0.399374 -0.001988 -0.287017  0.597528  1.000000   \n",
       "DC              0.398345 -0.218684  0.051831 -0.296831  0.500046  0.867837   \n",
       "ISI             0.605002 -0.682805  0.034626 -0.351914  0.751666  0.683809   \n",
       "BUI             0.473480 -0.345577  0.020510 -0.298460  0.586264  0.981026   \n",
       "Classes         0.532604 -0.447035 -0.015691 -0.365089  0.759940  0.578138   \n",
       "Region          0.272439 -0.395779 -0.120777 -0.019413  0.180944  0.192492   \n",
       "\n",
       "                   DC       ISI       BUI   Classes    Region  \n",
       "Temperature  0.398345  0.605002  0.473480  0.532604  0.272439  \n",
       "RH          -0.218684 -0.682805 -0.345577 -0.447035 -0.395779  \n",
       "Ws           0.051831  0.034626  0.020510 -0.015691 -0.120777  \n",
       "Rain        -0.296831 -0.351914 -0.298460 -0.365089 -0.019413  \n",
       "FFMC         0.500046  0.751666  0.586264  0.759940  0.180944  \n",
       "DMC          0.867837  0.683809  0.981026  0.578138  0.192492  \n",
       "DC           1.000000  0.502461  0.937199  0.501794 -0.080379  \n",
       "ISI          0.502461  1.000000  0.648213  0.755806  0.258948  \n",
       "BUI          0.937199  0.648213  1.000000  0.580292  0.087681  \n",
       "Classes      0.501794  0.755806  0.580292  1.000000  0.125855  \n",
       "Region      -0.080379  0.258948  0.087681  0.125855  1.000000  "
      ]
     },
     "execution_count": 156,
     "metadata": {},
     "output_type": "execute_result"
    }
   ],
   "source": [
    "## Features Selection on the basis of correlation \n",
    "Xtrain.corr()\n",
    "\n",
    "## Here the domain expertise set a barrier let say 90% for the correlation. That means that\n",
    "# all the features that are have correlation 0.9 or above can be neglected or in other words\n",
    "# they both act in a very similar fashion so we need not to consider both. "
   ]
  },
  {
   "cell_type": "code",
   "execution_count": 157,
   "metadata": {},
   "outputs": [
    {
     "data": {
      "text/plain": [
       "<Axes: >"
      ]
     },
     "execution_count": 157,
     "metadata": {},
     "output_type": "execute_result"
    },
    {
     "data": {
      "image/png": "[encoded data removed]",
      "text/plain": [
       "<Figure size 1200x1000 with 2 Axes>"
      ]
     },
     "metadata": {},
     "output_type": "display_data"
    }
   ],
   "source": [
    "## Checking for the multicollinearity\n",
    "plt.figure(figsize=(12,10))\n",
    "corr = Xtrain.corr()\n",
    "sns.heatmap(corr,annot=True)"
   ]
  },
  {
   "cell_type": "code",
   "execution_count": 158,
   "metadata": {},
   "outputs": [],
   "source": [
    "## Writing the function that will find the features with the multicollinearity\n",
    "\n",
    "def correlation(dataset , threshold):\n",
    "    colCorrelation = set()\n",
    "    correlationMatrix = dataset.corr()\n",
    "    for i in range(len(correlationMatrix.columns)):\n",
    "        for j in range (i):\n",
    "            if abs(correlationMatrix.iloc[i,j]) > threshold:\n",
    "                colName = correlationMatrix.columns[i]\n",
    "                colCorrelation.add(colName)\n",
    "    \n",
    "    return colCorrelation"
   ]
  },
  {
   "cell_type": "code",
   "execution_count": 159,
   "metadata": {},
   "outputs": [],
   "source": [
    "correlatedFeatures = correlation(df,0.85)"
   ]
  },
  {
   "cell_type": "code",
   "execution_count": 160,
   "metadata": {},
   "outputs": [
    {
     "data": {
      "text/plain": [
       "{'BUI', 'DC', 'FWI'}"
      ]
     },
     "execution_count": 160,
     "metadata": {},
     "output_type": "execute_result"
    }
   ],
   "source": [
    "correlatedFeatures"
   ]
  },
  {
   "cell_type": "code",
   "execution_count": 161,
   "metadata": {},
   "outputs": [
    {
     "data": {
      "text/html": [
       "<div>\n",
       "<style scoped>\n",
       "    .dataframe tbody tr th:only-of-type {\n",
       "        vertical-align: middle;\n",
       "    }\n",
       "\n",
       "    .dataframe tbody tr th {\n",
       "        vertical-align: top;\n",
       "    }\n",
       "\n",
       "    .dataframe thead th {\n",
       "        text-align: right;\n",
       "    }\n",
       "</style>\n",
       "<table border=\"1\" class=\"dataframe\">\n",
       "  <thead>\n",
       "    <tr style=\"text-align: right;\">\n",
       "      <th></th>\n",
       "      <th>Temperature</th>\n",
       "      <th>RH</th>\n",
       "      <th>Ws</th>\n",
       "      <th>Rain</th>\n",
       "      <th>FFMC</th>\n",
       "      <th>DMC</th>\n",
       "      <th>DC</th>\n",
       "      <th>ISI</th>\n",
       "      <th>BUI</th>\n",
       "      <th>FWI</th>\n",
       "      <th>Classes</th>\n",
       "      <th>Region</th>\n",
       "    </tr>\n",
       "  </thead>\n",
       "  <tbody>\n",
       "    <tr>\n",
       "      <th>0</th>\n",
       "      <td>29</td>\n",
       "      <td>57</td>\n",
       "      <td>18</td>\n",
       "      <td>0.0</td>\n",
       "      <td>65.7</td>\n",
       "      <td>3.4</td>\n",
       "      <td>7.6</td>\n",
       "      <td>1.3</td>\n",
       "      <td>3.4</td>\n",
       "      <td>0.5</td>\n",
       "      <td>0</td>\n",
       "      <td>0</td>\n",
       "    </tr>\n",
       "    <tr>\n",
       "      <th>1</th>\n",
       "      <td>29</td>\n",
       "      <td>61</td>\n",
       "      <td>13</td>\n",
       "      <td>1.3</td>\n",
       "      <td>64.4</td>\n",
       "      <td>4.1</td>\n",
       "      <td>7.6</td>\n",
       "      <td>1.0</td>\n",
       "      <td>3.9</td>\n",
       "      <td>0.4</td>\n",
       "      <td>0</td>\n",
       "      <td>0</td>\n",
       "    </tr>\n",
       "    <tr>\n",
       "      <th>2</th>\n",
       "      <td>26</td>\n",
       "      <td>82</td>\n",
       "      <td>22</td>\n",
       "      <td>13.1</td>\n",
       "      <td>47.1</td>\n",
       "      <td>2.5</td>\n",
       "      <td>7.1</td>\n",
       "      <td>0.3</td>\n",
       "      <td>2.7</td>\n",
       "      <td>0.1</td>\n",
       "      <td>0</td>\n",
       "      <td>0</td>\n",
       "    </tr>\n",
       "    <tr>\n",
       "      <th>3</th>\n",
       "      <td>25</td>\n",
       "      <td>89</td>\n",
       "      <td>13</td>\n",
       "      <td>2.5</td>\n",
       "      <td>28.6</td>\n",
       "      <td>1.3</td>\n",
       "      <td>6.9</td>\n",
       "      <td>0.0</td>\n",
       "      <td>1.7</td>\n",
       "      <td>0.0</td>\n",
       "      <td>0</td>\n",
       "      <td>0</td>\n",
       "    </tr>\n",
       "    <tr>\n",
       "      <th>4</th>\n",
       "      <td>27</td>\n",
       "      <td>77</td>\n",
       "      <td>16</td>\n",
       "      <td>0.0</td>\n",
       "      <td>64.8</td>\n",
       "      <td>3.0</td>\n",
       "      <td>14.2</td>\n",
       "      <td>1.2</td>\n",
       "      <td>3.9</td>\n",
       "      <td>0.5</td>\n",
       "      <td>0</td>\n",
       "      <td>0</td>\n",
       "    </tr>\n",
       "  </tbody>\n",
       "</table>\n",
       "</div>"
      ],
      "text/plain": [
       "   Temperature  RH  Ws  Rain  FFMC  DMC    DC  ISI  BUI  FWI  Classes  Region\n",
       "0           29  57  18   0.0  65.7  3.4   7.6  1.3  3.4  0.5        0       0\n",
       "1           29  61  13   1.3  64.4  4.1   7.6  1.0  3.9  0.4        0       0\n",
       "2           26  82  22  13.1  47.1  2.5   7.1  0.3  2.7  0.1        0       0\n",
       "3           25  89  13   2.5  28.6  1.3   6.9  0.0  1.7  0.0        0       0\n",
       "4           27  77  16   0.0  64.8  3.0  14.2  1.2  3.9  0.5        0       0"
      ]
     },
     "execution_count": 161,
     "metadata": {},
     "output_type": "execute_result"
    }
   ],
   "source": [
    "## Here we may observe that the BUI and DC have high correlation\n",
    "## So we may drop BUI and DC since they are highly correlated to FWI\n",
    "df.head()"
   ]
  },
  {
   "cell_type": "code",
   "execution_count": 162,
   "metadata": {},
   "outputs": [
    {
     "data": {
      "text/html": [
       "<div>\n",
       "<style scoped>\n",
       "    .dataframe tbody tr th:only-of-type {\n",
       "        vertical-align: middle;\n",
       "    }\n",
       "\n",
       "    .dataframe tbody tr th {\n",
       "        vertical-align: top;\n",
       "    }\n",
       "\n",
       "    .dataframe thead th {\n",
       "        text-align: right;\n",
       "    }\n",
       "</style>\n",
       "<table border=\"1\" class=\"dataframe\">\n",
       "  <thead>\n",
       "    <tr style=\"text-align: right;\">\n",
       "      <th></th>\n",
       "      <th>Temperature</th>\n",
       "      <th>RH</th>\n",
       "      <th>Ws</th>\n",
       "      <th>Rain</th>\n",
       "      <th>FFMC</th>\n",
       "      <th>DMC</th>\n",
       "      <th>DC</th>\n",
       "      <th>ISI</th>\n",
       "      <th>BUI</th>\n",
       "      <th>Classes</th>\n",
       "      <th>Region</th>\n",
       "    </tr>\n",
       "  </thead>\n",
       "  <tbody>\n",
       "    <tr>\n",
       "      <th>51</th>\n",
       "      <td>28</td>\n",
       "      <td>79</td>\n",
       "      <td>18</td>\n",
       "      <td>0.1</td>\n",
       "      <td>73.4</td>\n",
       "      <td>16.4</td>\n",
       "      <td>79.9</td>\n",
       "      <td>1.8</td>\n",
       "      <td>21.7</td>\n",
       "      <td>0</td>\n",
       "      <td>0</td>\n",
       "    </tr>\n",
       "    <tr>\n",
       "      <th>41</th>\n",
       "      <td>31</td>\n",
       "      <td>75</td>\n",
       "      <td>13</td>\n",
       "      <td>0.1</td>\n",
       "      <td>75.1</td>\n",
       "      <td>7.9</td>\n",
       "      <td>27.7</td>\n",
       "      <td>1.5</td>\n",
       "      <td>9.2</td>\n",
       "      <td>0</td>\n",
       "      <td>0</td>\n",
       "    </tr>\n",
       "    <tr>\n",
       "      <th>86</th>\n",
       "      <td>31</td>\n",
       "      <td>78</td>\n",
       "      <td>18</td>\n",
       "      <td>0.0</td>\n",
       "      <td>85.8</td>\n",
       "      <td>45.6</td>\n",
       "      <td>190.6</td>\n",
       "      <td>4.7</td>\n",
       "      <td>57.1</td>\n",
       "      <td>1</td>\n",
       "      <td>0</td>\n",
       "    </tr>\n",
       "    <tr>\n",
       "      <th>183</th>\n",
       "      <td>40</td>\n",
       "      <td>34</td>\n",
       "      <td>14</td>\n",
       "      <td>0.0</td>\n",
       "      <td>93.3</td>\n",
       "      <td>10.8</td>\n",
       "      <td>21.4</td>\n",
       "      <td>13.8</td>\n",
       "      <td>10.6</td>\n",
       "      <td>1</td>\n",
       "      <td>1</td>\n",
       "    </tr>\n",
       "    <tr>\n",
       "      <th>219</th>\n",
       "      <td>31</td>\n",
       "      <td>62</td>\n",
       "      <td>15</td>\n",
       "      <td>0.0</td>\n",
       "      <td>83.3</td>\n",
       "      <td>5.8</td>\n",
       "      <td>17.7</td>\n",
       "      <td>3.8</td>\n",
       "      <td>6.4</td>\n",
       "      <td>1</td>\n",
       "      <td>1</td>\n",
       "    </tr>\n",
       "  </tbody>\n",
       "</table>\n",
       "</div>"
      ],
      "text/plain": [
       "     Temperature  RH  Ws  Rain  FFMC   DMC     DC   ISI   BUI  Classes  Region\n",
       "51            28  79  18   0.1  73.4  16.4   79.9   1.8  21.7        0       0\n",
       "41            31  75  13   0.1  75.1   7.9   27.7   1.5   9.2        0       0\n",
       "86            31  78  18   0.0  85.8  45.6  190.6   4.7  57.1        1       0\n",
       "183           40  34  14   0.0  93.3  10.8   21.4  13.8  10.6        1       1\n",
       "219           31  62  15   0.0  83.3   5.8   17.7   3.8   6.4        1       1"
      ]
     },
     "execution_count": 162,
     "metadata": {},
     "output_type": "execute_result"
    }
   ],
   "source": [
    "Xtrain.head()"
   ]
  },
  {
   "cell_type": "code",
   "execution_count": 163,
   "metadata": {},
   "outputs": [],
   "source": [
    "## Dropping the correlatedFeatures from the training and testing data\n",
    "Xtrain.drop(['BUI','DC'],axis = 1,inplace=True)\n",
    "Xtest.drop(['BUI', 'DC'], axis = 1,inplace=True)"
   ]
  },
  {
   "cell_type": "code",
   "execution_count": 164,
   "metadata": {},
   "outputs": [
    {
     "data": {
      "text/plain": [
       "((182, 9), (61, 9))"
      ]
     },
     "execution_count": 164,
     "metadata": {},
     "output_type": "execute_result"
    }
   ],
   "source": [
    "Xtrain.shape,Xtest.shape"
   ]
  },
  {
   "cell_type": "code",
   "execution_count": 165,
   "metadata": {},
   "outputs": [],
   "source": [
    "from sklearn.preprocessing import StandardScaler\n",
    "scaler = StandardScaler()\n",
    "XtrainScaled = scaler.fit_transform(Xtrain)\n",
    "XtestScaled  = scaler.transform(Xtest )"
   ]
  },
  {
   "cell_type": "code",
   "execution_count": 166,
   "metadata": {},
   "outputs": [
    {
     "data": {
      "text/plain": [
       "array([[-1.20979237,  1.14254681,  0.88586306, ..., -0.72823871,\n",
       "        -1.12915898, -0.96755889],\n",
       "       [-0.34065206,  0.86712493, -0.88586306, ..., -0.80391788,\n",
       "        -1.12915898, -0.96755889],\n",
       "       [-0.34065206,  1.07369134,  0.88586306, ...,  0.00332656,\n",
       "         0.88561489, -0.96755889],\n",
       "       ...,\n",
       "       [-0.6303655 , -0.71655088, -0.17717261, ..., -0.82914426,\n",
       "        -1.12915898,  1.03352882],\n",
       "       [ 0.52848824, -0.30341806,  0.88586306, ...,  0.83579738,\n",
       "         0.88561489,  1.03352882],\n",
       "       [ 1.10791512, -0.50998447, -0.88586306, ..., -0.24893733,\n",
       "         0.88561489, -0.96755889]])"
      ]
     },
     "execution_count": 166,
     "metadata": {},
     "output_type": "execute_result"
    }
   ],
   "source": [
    "XtrainScaled"
   ]
  },
  {
   "cell_type": "markdown",
   "metadata": {},
   "source": [
    "Making Box Plot to see the effect of standard scaling"
   ]
  },
  {
   "cell_type": "code",
   "execution_count": 167,
   "metadata": {},
   "outputs": [
    {
     "data": {
      "text/plain": [
       "Text(0.5, 1.0, 'After Scaling')"
      ]
     },
     "execution_count": 167,
     "metadata": {},
     "output_type": "execute_result"
    },
    {
     "data": {
      "image/png": "[encoded data removed]",
      "text/plain": [
       "<Figure size 1500x500 with 2 Axes>"
      ]
     },
     "metadata": {},
     "output_type": "display_data"
    }
   ],
   "source": [
    "plt.subplots(figsize = ((15,5)))\n",
    "plt.subplot(1, 2 , 1)\n",
    "sns.boxplot(data = Xtrain)\n",
    "plt.title('Before scaling')\n",
    "plt.subplot(1, 2, 2)\n",
    "sns.boxplot(data=XtrainScaled)\n",
    "plt.title(\"After Scaling\")"
   ]
  },
  {
   "cell_type": "markdown",
   "metadata": {},
   "source": [
    "### LINEAR REGRESSION MODEL"
   ]
  },
  {
   "cell_type": "code",
   "execution_count": 169,
   "metadata": {},
   "outputs": [
    {
     "name": "stdout",
     "output_type": "stream",
     "text": [
      "Mean absolute error: 0.8750921432093286\n",
      "Mean squared error: 4.239551563600268\n",
      "R2 score 0.9243229068752971\n"
     ]
    },
    {
     "data": {
      "text/plain": [
       "<matplotlib.collections.PathCollection at 0x1e9ccd596a0>"
      ]
     },
     "execution_count": 169,
     "metadata": {},
     "output_type": "execute_result"
    },
    {
     "data": {
      "image/png": "[encoded data removed]",
      "text/plain": [
       "<Figure size 640x480 with 1 Axes>"
      ]
     },
     "metadata": {},
     "output_type": "display_data"
    }
   ],
   "source": [
    "from sklearn.linear_model import LinearRegression\n",
    "from sklearn.metrics import mean_squared_error\n",
    "from sklearn.metrics import mean_absolute_error\n",
    "from sklearn.metrics import r2_score\n",
    "linReg = LinearRegression()\n",
    "linReg.fit(XtrainScaled,yTrain)\n",
    "ypred = linReg.predict(XtestScaled)\n",
    "mae = mean_absolute_error(yTest,ypred)\n",
    "mse = mean_squared_error(yTest, ypred)\n",
    "score = r2_score(yTest,ypred)                   \n",
    "print (\"Mean absolute error:\",mae)\n",
    "print(\"Mean squared error:\", mse)\n",
    "print(\"R2 score\",score)\n",
    "plt.scatter(yTest,ypred)"
   ]
  },
  {
   "cell_type": "markdown",
   "metadata": {},
   "source": [
    "### LASSO REGRESSION"
   ]
  },
  {
   "cell_type": "code",
   "execution_count": 180,
   "metadata": {},
   "outputs": [
    {
     "name": "stdout",
     "output_type": "stream",
     "text": [
      "Mean absolute error: 1.247995140192621\n",
      "Mean squared error: 4.119728769756408\n",
      "R2 score 0.9264617747702033\n"
     ]
    },
    {
     "data": {
      "text/plain": [
       "<matplotlib.collections.PathCollection at 0x1e9cd7898e0>"
      ]
     },
     "execution_count": 180,
     "metadata": {},
     "output_type": "execute_result"
    },
    {
     "data": {
      "image/png": "[encoded data removed]",
      "text/plain": [
       "<Figure size 640x480 with 1 Axes>"
      ]
     },
     "metadata": {},
     "output_type": "display_data"
    }
   ],
   "source": [
    "from sklearn.linear_model import Lasso\n",
    "from sklearn.metrics import mean_squared_error\n",
    "from sklearn.metrics import mean_absolute_error\n",
    "from sklearn.metrics import r2_score\n",
    "\n",
    "lasso = Lasso()\n",
    "lasso.fit(XtrainScaled,yTrain)\n",
    "ypred = lasso.predict(XtestScaled)\n",
    "\n",
    "mae = mean_absolute_error(yTest,ypred)\n",
    "mse = mean_squared_error(yTest, ypred)\n",
    "score = r2_score(yTest,ypred)               \n",
    "print (\"Mean absolute error:\",mae)\n",
    "print(\"Mean squared error:\", mse)\n",
    "print(\"R2 score\",score)\n",
    "plt.scatter(yTest,ypred)"
   ]
  },
  {
   "cell_type": "code",
   "execution_count": 199,
   "metadata": {},
   "outputs": [
    {
     "data": {
      "text/html": [
       "<style>#sk-container-id-3 {color: black;background-color: white;}#sk-container-id-3 pre{padding: 0;}#sk-container-id-3 div.sk-toggleable {background-color: white;}#sk-container-id-3 label.sk-toggleable__label {cursor: pointer;display: block;width: 100%;margin-bottom: 0;padding: 0.3em;box-sizing: border-box;text-align: center;}#sk-container-id-3 label.sk-toggleable__label-arrow:before {content: \"▸\";float: left;margin-right: 0.25em;color: #696969;}#sk-container-id-3 label.sk-toggleable__label-arrow:hover:before {color: black;}#sk-container-id-3 div.sk-estimator:hover label.sk-toggleable__label-arrow:before {color: black;}#sk-container-id-3 div.sk-toggleable__content {max-height: 0;max-width: 0;overflow: hidden;text-align: left;background-color: #f0f8ff;}#sk-container-id-3 div.sk-toggleable__content pre {margin: 0.2em;color: black;border-radius: 0.25em;background-color: #f0f8ff;}#sk-container-id-3 input.sk-toggleable__control:checked~div.sk-toggleable__content {max-height: 200px;max-width: 100%;overflow: auto;}#sk-container-id-3 input.sk-toggleable__control:checked~label.sk-toggleable__label-arrow:before {content: \"▾\";}#sk-container-id-3 div.sk-estimator input.sk-toggleable__control:checked~label.sk-toggleable__label {background-color: #d4ebff;}#sk-container-id-3 div.sk-label input.sk-toggleable__control:checked~label.sk-toggleable__label {background-color: #d4ebff;}#sk-container-id-3 input.sk-hidden--visually {border: 0;clip: rect(1px 1px 1px 1px);clip: rect(1px, 1px, 1px, 1px);height: 1px;margin: -1px;overflow: hidden;padding: 0;position: absolute;width: 1px;}#sk-container-id-3 div.sk-estimator {font-family: monospace;background-color: #f0f8ff;border: 1px dotted black;border-radius: 0.25em;box-sizing: border-box;margin-bottom: 0.5em;}#sk-container-id-3 div.sk-estimator:hover {background-color: #d4ebff;}#sk-container-id-3 div.sk-parallel-item::after {content: \"\";width: 100%;border-bottom: 1px solid gray;flex-grow: 1;}#sk-container-id-3 div.sk-label:hover label.sk-toggleable__label {background-color: #d4ebff;}#sk-container-id-3 div.sk-serial::before {content: \"\";position: absolute;border-left: 1px solid gray;box-sizing: border-box;top: 0;bottom: 0;left: 50%;z-index: 0;}#sk-container-id-3 div.sk-serial {display: flex;flex-direction: column;align-items: center;background-color: white;padding-right: 0.2em;padding-left: 0.2em;position: relative;}#sk-container-id-3 div.sk-item {position: relative;z-index: 1;}#sk-container-id-3 div.sk-parallel {display: flex;align-items: stretch;justify-content: center;background-color: white;position: relative;}#sk-container-id-3 div.sk-item::before, #sk-container-id-3 div.sk-parallel-item::before {content: \"\";position: absolute;border-left: 1px solid gray;box-sizing: border-box;top: 0;bottom: 0;left: 50%;z-index: -1;}#sk-container-id-3 div.sk-parallel-item {display: flex;flex-direction: column;z-index: 1;position: relative;background-color: white;}#sk-container-id-3 div.sk-parallel-item:first-child::after {align-self: flex-end;width: 50%;}#sk-container-id-3 div.sk-parallel-item:last-child::after {align-self: flex-start;width: 50%;}#sk-container-id-3 div.sk-parallel-item:only-child::after {width: 0;}#sk-container-id-3 div.sk-dashed-wrapped {border: 1px dashed gray;margin: 0 0.4em 0.5em 0.4em;box-sizing: border-box;padding-bottom: 0.4em;background-color: white;}#sk-container-id-3 div.sk-label label {font-family: monospace;font-weight: bold;display: inline-block;line-height: 1.2em;}#sk-container-id-3 div.sk-label-container {text-align: center;}#sk-container-id-3 div.sk-container {/* jupyter's `normalize.less` sets `[hidden] { display: none; }` but bootstrap.min.css set `[hidden] { display: none !important; }` so we also need the `!important` here to be able to override the default hidden behavior on the sphinx rendered scikit-learn.org. See: https://github.com/scikit-learn/scikit-learn/issues/21755 */display: inline-block !important;position: relative;}#sk-container-id-3 div.sk-text-repr-fallback {display: none;}</style><div id=\"sk-container-id-3\" class=\"sk-top-container\"><div class=\"sk-text-repr-fallback\"><pre>LassoCV(cv=10)</pre><b>In a Jupyter environment, please rerun this cell to show the HTML representation or trust the notebook. <br />On GitHub, the HTML representation is unable to render, please try loading this page with nbviewer.org.</b></div><div class=\"sk-container\" hidden><div class=\"sk-item\"><div class=\"sk-estimator sk-toggleable\"><input class=\"sk-toggleable__control sk-hidden--visually\" id=\"sk-estimator-id-3\" type=\"checkbox\" checked><label for=\"sk-estimator-id-3\" class=\"sk-toggleable__label sk-toggleable__label-arrow\">LassoCV</label><div class=\"sk-toggleable__content\"><pre>LassoCV(cv=10)</pre></div></div></div></div></div>"
      ],
      "text/plain": [
       "LassoCV(cv=10)"
      ]
     },
     "execution_count": 199,
     "metadata": {},
     "output_type": "execute_result"
    }
   ],
   "source": [
    "from sklearn.linear_model import LassoCV\n",
    "lassocv  = LassoCV(cv = 10)\n",
    "lassocv.fit(XtrainScaled,yTrain)"
   ]
  },
  {
   "cell_type": "code",
   "execution_count": 200,
   "metadata": {},
   "outputs": [
    {
     "data": {
      "text/plain": [
       "0.017063601425315583"
      ]
     },
     "execution_count": 200,
     "metadata": {},
     "output_type": "execute_result"
    }
   ],
   "source": [
    "lassocv.alpha_"
   ]
  },
  {
   "cell_type": "code",
   "execution_count": 201,
   "metadata": {},
   "outputs": [
    {
     "data": {
      "text/plain": [
       "array([6.88860534e+00, 6.42433640e+00, 5.99135763e+00, 5.58756018e+00,\n",
       "       5.21097732e+00, 4.85977489e+00, 4.53224233e+00, 4.22678436e+00,\n",
       "       3.94191324e+00, 3.67624148e+00, 3.42847511e+00, 3.19740736e+00,\n",
       "       2.98191281e+00, 2.78094187e+00, 2.59351569e+00, 2.41872141e+00,\n",
       "       2.25570769e+00, 2.10368054e+00, 1.96189951e+00, 1.82967405e+00,\n",
       "       1.70636014e+00, 1.59135718e+00, 1.48410503e+00, 1.38408132e+00,\n",
       "       1.29079887e+00, 1.20380335e+00, 1.12267103e+00, 1.04700676e+00,\n",
       "       9.76442009e-01, 9.10633086e-01, 8.49259464e-01, 7.92022218e-01,\n",
       "       7.38642572e-01, 6.88860534e-01, 6.42433640e-01, 5.99135763e-01,\n",
       "       5.58756018e-01, 5.21097732e-01, 4.85977489e-01, 4.53224233e-01,\n",
       "       4.22678436e-01, 3.94191324e-01, 3.67624148e-01, 3.42847511e-01,\n",
       "       3.19740736e-01, 2.98191281e-01, 2.78094187e-01, 2.59351569e-01,\n",
       "       2.41872141e-01, 2.25570769e-01, 2.10368054e-01, 1.96189951e-01,\n",
       "       1.82967405e-01, 1.70636014e-01, 1.59135718e-01, 1.48410503e-01,\n",
       "       1.38408132e-01, 1.29079887e-01, 1.20380335e-01, 1.12267103e-01,\n",
       "       1.04700676e-01, 9.76442009e-02, 9.10633086e-02, 8.49259464e-02,\n",
       "       7.92022218e-02, 7.38642572e-02, 6.88860534e-02, 6.42433640e-02,\n",
       "       5.99135763e-02, 5.58756018e-02, 5.21097732e-02, 4.85977489e-02,\n",
       "       4.53224233e-02, 4.22678436e-02, 3.94191324e-02, 3.67624148e-02,\n",
       "       3.42847511e-02, 3.19740736e-02, 2.98191281e-02, 2.78094187e-02,\n",
       "       2.59351569e-02, 2.41872141e-02, 2.25570769e-02, 2.10368054e-02,\n",
       "       1.96189951e-02, 1.82967405e-02, 1.70636014e-02, 1.59135718e-02,\n",
       "       1.48410503e-02, 1.38408132e-02, 1.29079887e-02, 1.20380335e-02,\n",
       "       1.12267103e-02, 1.04700676e-02, 9.76442009e-03, 9.10633086e-03,\n",
       "       8.49259464e-03, 7.92022218e-03, 7.38642572e-03, 6.88860534e-03])"
      ]
     },
     "execution_count": 201,
     "metadata": {},
     "output_type": "execute_result"
    }
   ],
   "source": [
    "lassocv.alphas_"
   ]
  },
  {
   "cell_type": "code",
   "execution_count": 202,
   "metadata": {},
   "outputs": [
    {
     "data": {
      "text/plain": [
       "array([[91.61064236, 46.06929101, 48.64527613, 67.53857426, 35.12793025,\n",
       "        58.25143388, 48.531481  , 45.43327692, 75.01417014, 31.88245907],\n",
       "       [88.94527399, 40.2449261 , 42.5074408 , 62.96732706, 30.76834369,\n",
       "        52.77755537, 43.49050405, 40.24053093, 69.55590648, 28.1138956 ],\n",
       "       [80.43232636, 35.07951122, 37.09000365, 55.50511057, 26.85859863,\n",
       "        46.2403167 , 39.07606662, 35.6375476 , 63.2083034 , 24.74885198],\n",
       "       [72.99952153, 30.56320592, 32.3847    , 49.10945077, 23.38211639,\n",
       "        40.30284372, 35.07723573, 31.32149305, 57.60365217, 21.51493416],\n",
       "       [66.50810254, 26.63788358, 28.29836413, 43.63505216, 20.36216755,\n",
       "        35.14378776, 30.73396645, 27.55972963, 52.65083241, 18.70849573],\n",
       "       [60.83725546, 23.22634131, 24.75001384, 37.5548359 , 17.73898045,\n",
       "        30.66138706, 26.94841612, 24.2805575 , 47.0504743 , 16.27330978],\n",
       "       [55.88178095, 20.26154554, 21.66909721, 32.21502304, 15.46072297,\n",
       "        26.76711872, 23.64835534, 21.42152795, 41.70819216, 14.16081995],\n",
       "       [50.09312053, 17.68511941, 18.99441843, 27.61383493, 13.48221084,\n",
       "        23.3842301 , 20.77105958, 18.92855969, 37.02435109, 12.32853429],\n",
       "       [44.0314081 , 15.44632896, 16.67282059, 23.65174685, 11.76419975,\n",
       "        20.44576454, 18.26193986, 16.75431502, 32.91525685, 10.73961553],\n",
       "       [38.74381242, 13.50102013, 14.65783242, 20.24283341, 10.27252772,\n",
       "        17.89357949, 16.0731705 , 14.85768343, 29.3095029 ,  9.36192881],\n",
       "       [34.12990517, 11.81091366, 12.9093093 , 17.31201225,  8.97762534,\n",
       "        15.67712276, 14.16406671, 13.20288191, 26.14316298,  8.16790224],\n",
       "       [30.10294985, 10.34261105, 11.39227362, 14.79573779,  7.85365464,\n",
       "        13.75237982, 12.49827693, 11.75868497, 23.36104067,  7.13321923],\n",
       "       [26.58743988,  9.06710982, 10.07632183, 12.6373112 ,  6.87819862,\n",
       "        12.08127604, 11.04446952, 10.49814757, 20.9149919 ,  6.23686754],\n",
       "       [23.51763985,  7.9591927 ,  8.93502743, 10.78809321,  6.03177044,\n",
       "        10.63051474,  9.77536977,  9.39757184, 18.76301535,  5.46058926],\n",
       "       [20.83524763,  6.99693405,  7.94555446,  9.20591718,  5.29743109,\n",
       "         9.37121546,  8.66723287,  8.43640725, 16.86785221,  4.78852076],\n",
       "       [18.49269818,  6.16127065,  7.08766824,  7.85423622,  4.66045683,\n",
       "         8.27827166,  7.69938565,  7.5967609 , 15.19879953,  4.20687978],\n",
       "       [16.44538404,  5.43559291,  6.34416062,  6.70093068,  4.10802792,\n",
       "         7.3298583 ,  6.85354424,  6.86305257, 13.72724872,  3.70359692],\n",
       "       [14.65551477,  4.80556626,  5.69995604,  5.71953007,  3.62907077,\n",
       "         6.50700367,  6.1146348 ,  6.22171466, 12.42881498,  3.26847702],\n",
       "       [13.09017929,  4.25862341,  5.14195437,  4.88576266,  3.21389059,\n",
       "         5.79319195,  5.46868775,  5.66089589, 11.28220009,  2.89237618],\n",
       "       [11.72071136,  3.78387366,  4.65877292,  4.1790634 ,  2.85408648,\n",
       "         5.17414716,  4.90381533,  5.17038448, 10.26879571,  2.56744895],\n",
       "       [10.52213948,  3.37184954,  4.24052208,  3.58163678,  2.54235815,\n",
       "         4.63737744,  4.40966379,  4.74117023,  9.37233861,  2.2868826 ],\n",
       "       [ 9.47184953,  3.01432107,  3.87878878,  3.07808907,  2.27236207,\n",
       "         4.17205555,  3.97721401,  4.36544378,  8.57861061,  2.04476165],\n",
       "       [ 8.55270251,  2.70413425,  3.56574152,  2.65510981,  2.03858646,\n",
       "         3.76877202,  3.59860869,  4.03640123,  7.87517706,  1.83595042],\n",
       "       [ 7.74721317,  2.43507067,  3.29508644,  2.30085902,  1.83624259,\n",
       "         3.41934993,  3.26700186,  3.74811393,  7.25066742,  1.65599077],\n",
       "       [ 7.04098301,  2.2017254 ,  3.06119338,  2.00611388,  1.66117023,\n",
       "         3.1166839 ,  2.97642795,  3.49541519,  6.69659319,  1.5010133 ],\n",
       "       [ 6.42146466,  1.99937329,  2.85917234,  1.76191245,  1.5097607 ,\n",
       "         2.85460012,  2.72147759,  3.27380174,  6.20407286,  1.3676018 ],\n",
       "       [ 5.87771934,  1.82398934,  2.68477714,  1.56085101,  1.37886654,\n",
       "         2.62773453,  2.49806196,  3.07934796,  5.76580298,  1.25296695],\n",
       "       [ 5.40020913,  1.67199495,  2.53432102,  1.39654674,  1.2657643 ,\n",
       "         2.43144848,  2.30199612,  2.90864722,  5.37538465,  1.15451459],\n",
       "       [ 4.98061608,  1.54030675,  2.4046034 ,  1.26349969,  1.16808653,\n",
       "         2.2616532 ,  2.12983498,  2.75868605,  5.02720748,  1.0700524 ],\n",
       "       [ 4.61168481,  1.42624555,  2.29284615,  1.15697428,  1.08377746,\n",
       "         2.11485076,  1.97857499,  2.62687351,  4.71634987,  0.99767951],\n",
       "       [ 4.2865243 ,  1.32748342,  2.19684404,  1.07289653,  1.01105229,\n",
       "         1.9879873 ,  1.84559639,  2.51093907,  4.43849218,  0.93574795],\n",
       "       [ 4.00079228,  1.24199784,  2.11408115,  1.00754612,  0.94836157,\n",
       "         1.87841064,  1.72861375,  2.40890156,  4.18984089,  0.88282934],\n",
       "       [ 3.74904514,  1.1680317 ,  2.04295956,  0.9583803 ,  0.89436045,\n",
       "         1.78381775,  1.62563284,  2.31903202,  3.96706261,  0.83768596],\n",
       "       [ 3.52707021,  1.10405865,  1.98190602,  0.92257371,  0.84788176,\n",
       "         1.70220904,  1.5349132 ,  2.23982122,  3.7668297 ,  0.79924559],\n",
       "       [ 3.33119301,  1.04875289,  1.92955496,  0.89791586,  0.80791278,\n",
       "         1.63184859,  1.45493543,  2.16995139,  3.58739047,  0.76657969],\n",
       "       [ 3.158204  ,  1.00094183,  1.88472232,  0.88251756,  0.77360028,\n",
       "         1.57122962,  1.38421965,  2.10827167,  3.42604335,  0.7388547 ],\n",
       "       [ 3.00529887,  0.95966952,  1.84638165,  0.87476512,  0.74413111,\n",
       "         1.51910058,  1.32192722,  2.05377665,  3.28078518,  0.71543819],\n",
       "       [ 2.87002668,  0.9240447 ,  1.8136434 ,  0.87328254,  0.71886964,\n",
       "         1.47421337,  1.26687849,  2.00563923,  3.14985236,  0.69569456],\n",
       "       [ 2.75024459,  0.89331331,  1.78573683,  0.87689864,  0.69724313,\n",
       "         1.43563986,  1.21818744,  1.96298768,  3.03168867,  0.67910318],\n",
       "       [ 2.64368056,  0.8668209 ,  1.76222699,  0.88461871,  0.67875488,\n",
       "         1.40252666,  1.17508072,  1.92520191,  2.92491972,  0.66521434],\n",
       "       [ 2.54952579,  0.84399943,  1.7420583 ,  0.89547467,  0.66297447,\n",
       "         1.37413318,  1.13688204,  1.89169508,  2.82833066,  0.65363954],\n",
       "       [ 2.46591434,  0.82435591,  1.72497311,  0.90901853,  0.64952901,\n",
       "         1.34981726,  1.10299974,  1.86195317,  2.74084673,  0.64404333],\n",
       "       [ 2.39158345,  0.80746256,  1.71054159,  0.9245112 ,  0.63809553,\n",
       "         1.32902223,  1.07291604,  1.8355262 ,  2.66151623,  0.63613626],\n",
       "       [ 2.32543274,  0.79294826,  1.69838924,  0.94144678,  0.62839439,\n",
       "         1.31126565,  1.04617758,  1.81202006,  2.58949562,  0.62966871],\n",
       "       [ 2.26649793,  0.78049108,  1.6881923 ,  0.95940404,  0.62018357,\n",
       "         1.29612953,  1.02238727,  1.79108945,  2.52370668,  0.62442559],\n",
       "       [ 2.2120105 ,  0.76981178,  1.67967095,  0.97803239,  0.61100343,\n",
       "         1.28325182,  1.00107112,  1.77243168,  2.46416608,  0.62011952],\n",
       "       [ 2.1606947 ,  0.75522292,  1.6592476 ,  0.98658082,  0.60388068,\n",
       "         1.26613202,  0.9805327 ,  1.74744578,  2.40993483,  0.61001384],\n",
       "       [ 2.11616489,  0.72828891,  1.63750333,  0.98562341,  0.59952612,\n",
       "         1.23747418,  0.94243505,  1.71171793,  2.36048159,  0.59121058],\n",
       "       [ 2.07764402,  0.70550691,  1.61920385,  0.98711601,  0.59736221,\n",
       "         1.21166399,  0.90674576,  1.68088994,  2.2978922 ,  0.57583422],\n",
       "       [ 2.0440635 ,  0.68628049,  1.60410311,  0.99062834,  0.59697743,\n",
       "         1.18843435,  0.87538008,  1.64629233,  2.22069027,  0.5633645 ],\n",
       "       [ 2.01529971,  0.67010679,  1.59130045,  0.9956766 ,  0.58380158,\n",
       "         1.16411621,  0.84778765,  1.61271263,  2.14295168,  0.55336185],\n",
       "       [ 1.99045725,  0.65655122,  1.58066998,  1.00206318,  0.57287524,\n",
       "         1.12967238,  0.82349798,  1.58165558,  2.06439607,  0.54544812],\n",
       "       [ 1.96217715,  0.64523829,  1.56786062,  1.00941542,  0.55240307,\n",
       "         1.08185464,  0.79113497,  1.5444254 ,  1.99268952,  0.53929824],\n",
       "       [ 1.91186927,  0.6103051 ,  1.52881634,  1.01748534,  0.53481283,\n",
       "         1.03308988,  0.74829776,  1.51091833,  1.92718615,  0.51143924],\n",
       "       [ 1.8685822 ,  0.56270313,  1.49556961,  0.97569301,  0.5197022 ,\n",
       "         0.99144996,  0.71050731,  1.48075103,  1.82023253,  0.4662757 ],\n",
       "       [ 1.83104405,  0.52185122,  1.46658806,  0.93560905,  0.50673557,\n",
       "         0.95598921,  0.67712119,  1.45355744,  1.70979154,  0.42737803],\n",
       "       [ 1.79896786,  0.4865975 ,  1.44161865,  0.90251321,  0.49566709,\n",
       "         0.9258518 ,  0.64760074,  1.42901464,  1.61391058,  0.39367372],\n",
       "       [ 1.77140407,  0.45628699,  1.42012243,  0.87537433,  0.48614928,\n",
       "         0.90029687,  0.621475  ,  1.40692123,  1.53285747,  0.36457162],\n",
       "       [ 1.75129285,  0.43025208,  1.40163212,  0.85330857,  0.47801372,\n",
       "         0.87811987,  0.59825917,  1.3862424 ,  1.45977171,  0.33945781],\n",
       "       [ 1.73490995,  0.40791312,  1.38574231,  0.83553833,  0.47107076,\n",
       "         0.85878975,  0.57774302,  1.36808026,  1.3939854 ,  0.31779947],\n",
       "       [ 1.71882843,  0.38417427,  1.37210134,  0.81870976,  0.46515608,\n",
       "         0.84254575,  0.55880515,  1.35161355,  1.33538477,  0.29464081],\n",
       "       [ 1.70400923,  0.36392323,  1.36074199,  0.8013678 ,  0.45492905,\n",
       "         0.82876205,  0.5362883 ,  1.33664498,  1.28262068,  0.27347542],\n",
       "       [ 1.69140288,  0.34745607,  1.35057154,  0.7872035 ,  0.44387483,\n",
       "         0.81709794,  0.51626408,  1.32289098,  1.23521664,  0.25571347],\n",
       "       [ 1.68046648,  0.33418306,  1.33042847,  0.77574657,  0.43435121,\n",
       "         0.80725546,  0.49845964,  1.31049088,  1.19245808,  0.24068674],\n",
       "       [ 1.67131619,  0.32362257,  1.31388712,  0.76561842,  0.4261116 ,\n",
       "         0.79891877,  0.48256812,  1.29918352,  1.15395708,  0.22806912],\n",
       "       [ 1.66329242,  0.31536522,  1.29915715,  0.75755773,  0.41906697,\n",
       "         0.79207896,  0.4673123 ,  1.28874638,  1.11908626,  0.21768302],\n",
       "       [ 1.65649979,  0.30904428,  1.2857552 ,  0.75094747,  0.41289731,\n",
       "         0.78530257,  0.45386745,  1.27856884,  1.08719861,  0.20921098],\n",
       "       [ 1.65063651,  0.30434851,  1.27336436,  0.74591087,  0.40757022,\n",
       "         0.77926675,  0.44186933,  1.2686749 ,  1.05883469,  0.20234626],\n",
       "       [ 1.64561297,  0.3009825 ,  1.26202101,  0.74190038,  0.40297006,\n",
       "         0.77436087,  0.43115234,  1.25964076,  1.03309561,  0.19687234],\n",
       "       [ 1.64133358,  0.29874933,  1.25170771,  0.73889266,  0.39899998,\n",
       "         0.77021662,  0.42156876,  1.25152063,  1.00974191,  0.1925244 ],\n",
       "       [ 1.63776645,  0.29746475,  1.24246968,  0.73672445,  0.39557583,\n",
       "         0.77040306,  0.41292984,  1.24412258,  0.98852826,  0.18915766],\n",
       "       [ 1.63471131,  0.29693661,  1.23413021,  0.73541517,  0.39270319,\n",
       "         0.77233218,  0.4052449 ,  1.23736041,  0.96894494,  0.18661155],\n",
       "       [ 1.63209833,  0.29703991,  1.22674066,  0.73452118,  0.38945575,\n",
       "         0.77482686,  0.39834673,  1.23117351,  0.95142708,  0.18478031],\n",
       "       [ 1.62989228,  0.2976549 ,  1.21986099,  0.73410119,  0.38567486,\n",
       "         0.7777601 ,  0.39214851,  1.22544391,  0.9354409 ,  0.18348907],\n",
       "       [ 1.62808325,  0.29867955,  1.21367474,  0.73407418,  0.38288504,\n",
       "         0.78102359,  0.38657263,  1.22023289,  0.92085461,  0.1826793 ],\n",
       "       [ 1.62656898,  0.30000892,  1.20806463,  0.73436582,  0.38071248,\n",
       "         0.78471283,  0.3814902 ,  1.21547482,  0.90722323,  0.18226419],\n",
       "       [ 1.62527029,  0.30161042,  1.20321799,  0.73491337,  0.37881108,\n",
       "         0.78837402,  0.37696716,  1.21110606,  0.89508868,  0.18217272],\n",
       "       [ 1.62418871,  0.30360675,  1.19850941,  0.7357858 ,  0.37715048,\n",
       "         0.79213463,  0.37288187,  1.20709096,  0.88396602,  0.18234456],\n",
       "       [ 1.62329496,  0.30609392,  1.19427772,  0.73669756,  0.37569972,\n",
       "         0.79594365,  0.36918858,  1.20339804,  0.87377483,  0.18274103],\n",
       "       [ 1.62256137,  0.30859283,  1.19042603,  0.73771637,  0.37450953,\n",
       "         0.79998257,  0.36584607,  1.19998994,  0.86443129,  0.18329104],\n",
       "       [ 1.62199009,  0.31177892,  1.18691263,  0.73882446,  0.37336335,\n",
       "         0.8037661 ,  0.36281743,  1.19683276,  0.85585728,  0.18397324],\n",
       "       [ 1.62155359,  0.3163127 ,  1.18370459,  0.73999519,  0.37238998,\n",
       "         0.80748334,  0.36001001,  1.19394811,  0.84771045,  0.18475683],\n",
       "       [ 1.62117289,  0.32081129,  1.1810588 ,  0.74120636,  0.37153957,\n",
       "         0.81112264,  0.35751981,  1.19128924,  0.84050449,  0.18561578],\n",
       "       [ 1.6208694 ,  0.32522019,  1.17830181,  0.74252079,  0.37079502,\n",
       "         0.81466608,  0.35525518,  1.18883505,  0.83386902,  0.18652833],\n",
       "       [ 1.62063574,  0.32951661,  1.17582089,  0.74377531,  0.37023777,\n",
       "         0.81833395,  0.35319303,  1.18656848,  0.82775522,  0.18747304],\n",
       "       [ 1.62046094,  0.33362225,  1.17355546,  0.74500422,  0.36962817,\n",
       "         0.82165864,  0.35131396,  1.18450236,  0.8221227 ,  0.18844286],\n",
       "       [ 1.62034517,  0.3376422 ,  1.17259569,  0.7462178 ,  0.36911913,\n",
       "         0.82483575,  0.34959994,  1.1825355 ,  0.81693024,  0.18941861],\n",
       "       [ 1.62030635,  0.3415205 ,  1.17302106,  0.74740924,  0.3687235 ,\n",
       "         0.82788398,  0.34797652,  1.18074   ,  0.81191029,  0.1905792 ],\n",
       "       [ 1.6202636 ,  0.34524375,  1.17356207,  0.74857215,  0.36865569,\n",
       "         0.830801  ,  0.34654847,  1.17908281,  0.80750208,  0.19185705],\n",
       "       [ 1.62023871,  0.34873596,  1.17430185,  0.74974542,  0.36868408,\n",
       "         0.83381028,  0.34533006,  1.17751235,  0.80344188,  0.19311402],\n",
       "       [ 1.62023584,  0.35213231,  1.17504472,  0.75086087,  0.36866871,\n",
       "         0.83648858,  0.34422775,  1.17608894,  0.79968259,  0.194317  ],\n",
       "       [ 1.62104678,  0.35537967,  1.17579596,  0.75188222,  0.36870324,\n",
       "         0.83899861,  0.34321785,  1.17482789,  0.7962012 ,  0.19551691],\n",
       "       [ 1.62204243,  0.35846988,  1.17645466,  0.75287159,  0.36875898,\n",
       "         0.84157987,  0.3422417 ,  1.17363736,  0.79307486,  0.19667958],\n",
       "       [ 1.62295209,  0.3613214 ,  1.17712953,  0.75384783,  0.36887057,\n",
       "         0.84452321,  0.34139658,  1.17256423,  0.78986269,  0.1978017 ],\n",
       "       [ 1.62379168,  0.36409373,  1.17778429,  0.75476941,  0.36891209,\n",
       "         0.8471881 ,  0.34062573,  1.1715824 ,  0.78702276,  0.19884457],\n",
       "       [ 1.62443633,  0.36673231,  1.17841262,  0.75562794,  0.36898415,\n",
       "         0.84970186,  0.33991774,  1.17067924,  0.78440212,  0.19988222],\n",
       "       [ 1.6251162 ,  0.36922986,  1.17906593,  0.75644252,  0.3690717 ,\n",
       "         0.85207253,  0.33926765,  1.1698738 ,  0.78197058,  0.20087683],\n",
       "       [ 1.62573521,  0.37149379,  1.1795933 ,  0.75721759,  0.36920942,\n",
       "         0.85446488,  0.33862025,  1.16907921,  0.7795872 ,  0.20182552],\n",
       "       [ 1.62630998,  0.37370607,  1.18012915,  0.75797   ,  0.36927437,\n",
       "         0.8566193 ,  0.33806746,  1.16836174,  0.77749572,  0.20272926],\n",
       "       [ 1.62683017,  0.37580861,  1.18064889,  0.75869626,  0.36934907,\n",
       "         0.85859249,  0.33756707,  1.16770779,  0.77558028,  0.2035444 ]])"
      ]
     },
     "execution_count": 202,
     "metadata": {},
     "output_type": "execute_result"
    }
   ],
   "source": [
    "lassocv.mse_path_"
   ]
  },
  {
   "cell_type": "code",
   "execution_count": 203,
   "metadata": {},
   "outputs": [
    {
     "data": {
      "text/plain": [
       "(0.8726102466871208, 0.9256941350028701)"
      ]
     },
     "execution_count": 203,
     "metadata": {},
     "output_type": "execute_result"
    },
    {
     "data": {
      "image/png": "[encoded data removed]",
      "text/plain": [
       "<Figure size 640x480 with 1 Axes>"
      ]
     },
     "metadata": {},
     "output_type": "display_data"
    }
   ],
   "source": [
    "ypred = lassocv.predict(XtestScaled)\n",
    "plt.scatter(yTest,ypred)\n",
    "mae = mean_absolute_error(yTest,ypred)\n",
    "score = r2_score(yTest, ypred)\n",
    "mae,score"
   ]
  },
  {
   "cell_type": "markdown",
   "metadata": {},
   "source": [
    "### Ridge Regression"
   ]
  },
  {
   "cell_type": "code",
   "execution_count": 207,
   "metadata": {},
   "outputs": [
    {
     "name": "stdout",
     "output_type": "stream",
     "text": [
      "Mean absolute error: 0.877351322689327\n",
      "Mean squared error: 4.122945679055393\n",
      "R2 score 0.9264043521062868\n"
     ]
    },
    {
     "data": {
      "text/plain": [
       "<matplotlib.collections.PathCollection at 0x1e9cd944d60>"
      ]
     },
     "execution_count": 207,
     "metadata": {},
     "output_type": "execute_result"
    },
    {
     "data": {
      "image/png": "[encoded data removed]",
      "text/plain": [
       "<Figure size 640x480 with 1 Axes>"
      ]
     },
     "metadata": {},
     "output_type": "display_data"
    }
   ],
   "source": [
    "from sklearn.linear_model import Ridge\n",
    "from sklearn.metrics import mean_squared_error\n",
    "from sklearn.metrics import mean_absolute_error\n",
    "from sklearn.metrics import r2_score\n",
    "\n",
    "ridge = Ridge()\n",
    "ridge.fit(XtrainScaled,yTrain)\n",
    "ypred = ridge.predict(XtestScaled)\n",
    "\n",
    "mae = mean_absolute_error(yTest,ypred)\n",
    "mse = mean_squared_error(yTest, ypred)\n",
    "score = r2_score(yTest,ypred)               \n",
    "print (\"Mean absolute error:\",mae)\n",
    "print(\"Mean squared error:\", mse)\n",
    "print(\"R2 score\",score)\n",
    "plt.scatter(yTest,ypred)"
   ]
  },
  {
   "cell_type": "code",
   "execution_count": 212,
   "metadata": {},
   "outputs": [
    {
     "name": "stdout",
     "output_type": "stream",
     "text": [
      "Mean absolute error: 0.877351322689327\n",
      "Mean squared error: 4.122945679055393\n",
      "R2 score 0.9264043521062868\n"
     ]
    },
    {
     "data": {
      "text/plain": [
       "<matplotlib.collections.PathCollection at 0x1e9cdc4ae20>"
      ]
     },
     "execution_count": 212,
     "metadata": {},
     "output_type": "execute_result"
    },
    {
     "data": {
      "image/png": "[encoded data removed]",
      "text/plain": [
       "<Figure size 640x480 with 1 Axes>"
      ]
     },
     "metadata": {},
     "output_type": "display_data"
    }
   ],
   "source": [
    "from sklearn.linear_model import RidgeCV\n",
    "from sklearn.metrics import mean_squared_error\n",
    "from sklearn.metrics import mean_absolute_error\n",
    "from sklearn.metrics import r2_score\n",
    "\n",
    "ridgecv = RidgeCV(cv = 5)\n",
    "ridgecv.fit(XtrainScaled,yTrain)\n",
    "ypred = ridgecv.predict(XtestScaled)\n",
    "\n",
    "mae = mean_absolute_error(yTest,ypred)\n",
    "mse = mean_squared_error(yTest, ypred)\n",
    "score = r2_score(yTest,ypred)               \n",
    "print (\"Mean absolute error:\",mae)\n",
    "print(\"Mean squared error:\", mse)\n",
    "print(\"R2 score\",score)\n",
    "plt.scatter(yTest,ypred)"
   ]
  },
  {
   "cell_type": "code",
   "execution_count": 213,
   "metadata": {},
   "outputs": [
    {
     "data": {
      "text/plain": [
       "{'alpha_per_target': False,\n",
       " 'alphas': (0.1, 1.0, 10.0),\n",
       " 'cv': 5,\n",
       " 'fit_intercept': True,\n",
       " 'gcv_mode': None,\n",
       " 'scoring': None,\n",
       " 'store_cv_values': False}"
      ]
     },
     "execution_count": 213,
     "metadata": {},
     "output_type": "execute_result"
    }
   ],
   "source": [
    "ridgecv.get_params()"
   ]
  },
  {
   "cell_type": "code",
   "execution_count": 214,
   "metadata": {},
   "outputs": [
    {
     "name": "stdout",
     "output_type": "stream",
     "text": [
      "Mean absolute error: 1.8525329575429226\n",
      "Mean squared error: 6.689765560264014\n",
      "R2 score 0.8805859526198079\n"
     ]
    },
    {
     "data": {
      "text/plain": [
       "<matplotlib.collections.PathCollection at 0x1e9cdb51670>"
      ]
     },
     "execution_count": 214,
     "metadata": {},
     "output_type": "execute_result"
    },
    {
     "data": {
      "image/png": "[encoded data removed]",
      "text/plain": [
       "<Figure size 640x480 with 1 Axes>"
      ]
     },
     "metadata": {},
     "output_type": "display_data"
    }
   ],
   "source": [
    "from sklearn.linear_model import ElasticNet\n",
    "from sklearn.metrics import mean_squared_error\n",
    "from sklearn.metrics import mean_absolute_error\n",
    "from sklearn.metrics import r2_score\n",
    "\n",
    "elastic = ElasticNet()\n",
    "elastic.fit(XtrainScaled,yTrain)\n",
    "ypred = elastic.predict(XtestScaled)\n",
    "\n",
    "mae = mean_absolute_error(yTest,ypred)\n",
    "mse = mean_squared_error(yTest, ypred)\n",
    "score = r2_score(yTest,ypred)               \n",
    "print (\"Mean absolute error:\",mae)\n",
    "print(\"Mean squared error:\", mse)\n",
    "print(\"R2 score\",score)\n",
    "plt.scatter(yTest,ypred)"
   ]
  },
  {
   "cell_type": "code",
   "execution_count": 218,
   "metadata": {},
   "outputs": [
    {
     "data": {
      "text/plain": [
       "1.0"
      ]
     },
     "execution_count": 218,
     "metadata": {},
     "output_type": "execute_result"
    }
   ],
   "source": [
    "elastic.alpha"
   ]
  },
  {
   "cell_type": "code",
   "execution_count": 219,
   "metadata": {
    "tags": []
   },
   "outputs": [],
   "source": [
    "## Pickling the machine learning and preprocessing model"
   ]
  },
  {
   "cell_type": "code",
   "execution_count": 220,
   "metadata": {},
   "outputs": [
    {
     "data": {
      "text/html": [
       "<style>#sk-container-id-4 {color: black;background-color: white;}#sk-container-id-4 pre{padding: 0;}#sk-container-id-4 div.sk-toggleable {background-color: white;}#sk-container-id-4 label.sk-toggleable__label {cursor: pointer;display: block;width: 100%;margin-bottom: 0;padding: 0.3em;box-sizing: border-box;text-align: center;}#sk-container-id-4 label.sk-toggleable__label-arrow:before {content: \"▸\";float: left;margin-right: 0.25em;color: #696969;}#sk-container-id-4 label.sk-toggleable__label-arrow:hover:before {color: black;}#sk-container-id-4 div.sk-estimator:hover label.sk-toggleable__label-arrow:before {color: black;}#sk-container-id-4 div.sk-toggleable__content {max-height: 0;max-width: 0;overflow: hidden;text-align: left;background-color: #f0f8ff;}#sk-container-id-4 div.sk-toggleable__content pre {margin: 0.2em;color: black;border-radius: 0.25em;background-color: #f0f8ff;}#sk-container-id-4 input.sk-toggleable__control:checked~div.sk-toggleable__content {max-height: 200px;max-width: 100%;overflow: auto;}#sk-container-id-4 input.sk-toggleable__control:checked~label.sk-toggleable__label-arrow:before {content: \"▾\";}#sk-container-id-4 div.sk-estimator input.sk-toggleable__control:checked~label.sk-toggleable__label {background-color: #d4ebff;}#sk-container-id-4 div.sk-label input.sk-toggleable__control:checked~label.sk-toggleable__label {background-color: #d4ebff;}#sk-container-id-4 input.sk-hidden--visually {border: 0;clip: rect(1px 1px 1px 1px);clip: rect(1px, 1px, 1px, 1px);height: 1px;margin: -1px;overflow: hidden;padding: 0;position: absolute;width: 1px;}#sk-container-id-4 div.sk-estimator {font-family: monospace;background-color: #f0f8ff;border: 1px dotted black;border-radius: 0.25em;box-sizing: border-box;margin-bottom: 0.5em;}#sk-container-id-4 div.sk-estimator:hover {background-color: #d4ebff;}#sk-container-id-4 div.sk-parallel-item::after {content: \"\";width: 100%;border-bottom: 1px solid gray;flex-grow: 1;}#sk-container-id-4 div.sk-label:hover label.sk-toggleable__label {background-color: #d4ebff;}#sk-container-id-4 div.sk-serial::before {content: \"\";position: absolute;border-left: 1px solid gray;box-sizing: border-box;top: 0;bottom: 0;left: 50%;z-index: 0;}#sk-container-id-4 div.sk-serial {display: flex;flex-direction: column;align-items: center;background-color: white;padding-right: 0.2em;padding-left: 0.2em;position: relative;}#sk-container-id-4 div.sk-item {position: relative;z-index: 1;}#sk-container-id-4 div.sk-parallel {display: flex;align-items: stretch;justify-content: center;background-color: white;position: relative;}#sk-container-id-4 div.sk-item::before, #sk-container-id-4 div.sk-parallel-item::before {content: \"\";position: absolute;border-left: 1px solid gray;box-sizing: border-box;top: 0;bottom: 0;left: 50%;z-index: -1;}#sk-container-id-4 div.sk-parallel-item {display: flex;flex-direction: column;z-index: 1;position: relative;background-color: white;}#sk-container-id-4 div.sk-parallel-item:first-child::after {align-self: flex-end;width: 50%;}#sk-container-id-4 div.sk-parallel-item:last-child::after {align-self: flex-start;width: 50%;}#sk-container-id-4 div.sk-parallel-item:only-child::after {width: 0;}#sk-container-id-4 div.sk-dashed-wrapped {border: 1px dashed gray;margin: 0 0.4em 0.5em 0.4em;box-sizing: border-box;padding-bottom: 0.4em;background-color: white;}#sk-container-id-4 div.sk-label label {font-family: monospace;font-weight: bold;display: inline-block;line-height: 1.2em;}#sk-container-id-4 div.sk-label-container {text-align: center;}#sk-container-id-4 div.sk-container {/* jupyter's `normalize.less` sets `[hidden] { display: none; }` but bootstrap.min.css set `[hidden] { display: none !important; }` so we also need the `!important` here to be able to override the default hidden behavior on the sphinx rendered scikit-learn.org. See: https://github.com/scikit-learn/scikit-learn/issues/21755 */display: inline-block !important;position: relative;}#sk-container-id-4 div.sk-text-repr-fallback {display: none;}</style><div id=\"sk-container-id-4\" class=\"sk-top-container\"><div class=\"sk-text-repr-fallback\"><pre>StandardScaler()</pre><b>In a Jupyter environment, please rerun this cell to show the HTML representation or trust the notebook. <br />On GitHub, the HTML representation is unable to render, please try loading this page with nbviewer.org.</b></div><div class=\"sk-container\" hidden><div class=\"sk-item\"><div class=\"sk-estimator sk-toggleable\"><input class=\"sk-toggleable__control sk-hidden--visually\" id=\"sk-estimator-id-4\" type=\"checkbox\" checked><label for=\"sk-estimator-id-4\" class=\"sk-toggleable__label sk-toggleable__label-arrow\">StandardScaler</label><div class=\"sk-toggleable__content\"><pre>StandardScaler()</pre></div></div></div></div></div>"
      ],
      "text/plain": [
       "StandardScaler()"
      ]
     },
     "execution_count": 220,
     "metadata": {},
     "output_type": "execute_result"
    }
   ],
   "source": [
    "scaler"
   ]
  },
  {
   "cell_type": "code",
   "execution_count": 221,
   "metadata": {},
   "outputs": [
    {
     "data": {
      "text/html": [
       "<style>#sk-container-id-5 {color: black;background-color: white;}#sk-container-id-5 pre{padding: 0;}#sk-container-id-5 div.sk-toggleable {background-color: white;}#sk-container-id-5 label.sk-toggleable__label {cursor: pointer;display: block;width: 100%;margin-bottom: 0;padding: 0.3em;box-sizing: border-box;text-align: center;}#sk-container-id-5 label.sk-toggleable__label-arrow:before {content: \"▸\";float: left;margin-right: 0.25em;color: #696969;}#sk-container-id-5 label.sk-toggleable__label-arrow:hover:before {color: black;}#sk-container-id-5 div.sk-estimator:hover label.sk-toggleable__label-arrow:before {color: black;}#sk-container-id-5 div.sk-toggleable__content {max-height: 0;max-width: 0;overflow: hidden;text-align: left;background-color: #f0f8ff;}#sk-container-id-5 div.sk-toggleable__content pre {margin: 0.2em;color: black;border-radius: 0.25em;background-color: #f0f8ff;}#sk-container-id-5 input.sk-toggleable__control:checked~div.sk-toggleable__content {max-height: 200px;max-width: 100%;overflow: auto;}#sk-container-id-5 input.sk-toggleable__control:checked~label.sk-toggleable__label-arrow:before {content: \"▾\";}#sk-container-id-5 div.sk-estimator input.sk-toggleable__control:checked~label.sk-toggleable__label {background-color: #d4ebff;}#sk-container-id-5 div.sk-label input.sk-toggleable__control:checked~label.sk-toggleable__label {background-color: #d4ebff;}#sk-container-id-5 input.sk-hidden--visually {border: 0;clip: rect(1px 1px 1px 1px);clip: rect(1px, 1px, 1px, 1px);height: 1px;margin: -1px;overflow: hidden;padding: 0;position: absolute;width: 1px;}#sk-container-id-5 div.sk-estimator {font-family: monospace;background-color: #f0f8ff;border: 1px dotted black;border-radius: 0.25em;box-sizing: border-box;margin-bottom: 0.5em;}#sk-container-id-5 div.sk-estimator:hover {background-color: #d4ebff;}#sk-container-id-5 div.sk-parallel-item::after {content: \"\";width: 100%;border-bottom: 1px solid gray;flex-grow: 1;}#sk-container-id-5 div.sk-label:hover label.sk-toggleable__label {background-color: #d4ebff;}#sk-container-id-5 div.sk-serial::before {content: \"\";position: absolute;border-left: 1px solid gray;box-sizing: border-box;top: 0;bottom: 0;left: 50%;z-index: 0;}#sk-container-id-5 div.sk-serial {display: flex;flex-direction: column;align-items: center;background-color: white;padding-right: 0.2em;padding-left: 0.2em;position: relative;}#sk-container-id-5 div.sk-item {position: relative;z-index: 1;}#sk-container-id-5 div.sk-parallel {display: flex;align-items: stretch;justify-content: center;background-color: white;position: relative;}#sk-container-id-5 div.sk-item::before, #sk-container-id-5 div.sk-parallel-item::before {content: \"\";position: absolute;border-left: 1px solid gray;box-sizing: border-box;top: 0;bottom: 0;left: 50%;z-index: -1;}#sk-container-id-5 div.sk-parallel-item {display: flex;flex-direction: column;z-index: 1;position: relative;background-color: white;}#sk-container-id-5 div.sk-parallel-item:first-child::after {align-self: flex-end;width: 50%;}#sk-container-id-5 div.sk-parallel-item:last-child::after {align-self: flex-start;width: 50%;}#sk-container-id-5 div.sk-parallel-item:only-child::after {width: 0;}#sk-container-id-5 div.sk-dashed-wrapped {border: 1px dashed gray;margin: 0 0.4em 0.5em 0.4em;box-sizing: border-box;padding-bottom: 0.4em;background-color: white;}#sk-container-id-5 div.sk-label label {font-family: monospace;font-weight: bold;display: inline-block;line-height: 1.2em;}#sk-container-id-5 div.sk-label-container {text-align: center;}#sk-container-id-5 div.sk-container {/* jupyter's `normalize.less` sets `[hidden] { display: none; }` but bootstrap.min.css set `[hidden] { display: none !important; }` so we also need the `!important` here to be able to override the default hidden behavior on the sphinx rendered scikit-learn.org. See: https://github.com/scikit-learn/scikit-learn/issues/21755 */display: inline-block !important;position: relative;}#sk-container-id-5 div.sk-text-repr-fallback {display: none;}</style><div id=\"sk-container-id-5\" class=\"sk-top-container\"><div class=\"sk-text-repr-fallback\"><pre>Ridge()</pre><b>In a Jupyter environment, please rerun this cell to show the HTML representation or trust the notebook. <br />On GitHub, the HTML representation is unable to render, please try loading this page with nbviewer.org.</b></div><div class=\"sk-container\" hidden><div class=\"sk-item\"><div class=\"sk-estimator sk-toggleable\"><input class=\"sk-toggleable__control sk-hidden--visually\" id=\"sk-estimator-id-5\" type=\"checkbox\" checked><label for=\"sk-estimator-id-5\" class=\"sk-toggleable__label sk-toggleable__label-arrow\">Ridge</label><div class=\"sk-toggleable__content\"><pre>Ridge()</pre></div></div></div></div></div>"
      ],
      "text/plain": [
       "Ridge()"
      ]
     },
     "execution_count": 221,
     "metadata": {},
     "output_type": "execute_result"
    }
   ],
   "source": [
    "ridge"
   ]
  },
  {
   "cell_type": "code",
   "execution_count": 222,
   "metadata": {},
   "outputs": [],
   "source": [
    "import pickle\n",
    "pickle.dump(scaler, open('scaler.pkl','wb'))\n",
    "pickle.dump(ridge, open('ridge.pkl','wb'))"
   ]
  },
  {
   "cell_type": "code",
   "execution_count": null,
   "metadata": {},
   "outputs": [],
   "source": []
  }
 ],
 "metadata": {
  "kernelspec": {
   "display_name": "Python 3.8.10 64-bit",
   "language": "python",
   "name": "python3"
  },
  "language_info": {
   "codemirror_mode": {
    "name": "ipython",
    "version": 3
   },
   "file_extension": ".py",
   "mimetype": "text/x-python",
   "name": "python",
   "nbconvert_exporter": "python",
   "pygments_lexer": "ipython3",
   "version": "3.8.10"
  },
  "orig_nbformat": 4,
  "vscode": {
   "interpreter": {
    "hash": "e7370f93d1d0cde622a1f8e1c04877d8463912d04d973331ad4851f04de6915a"
   }
  }
 },
 "nbformat": 4,
 "nbformat_minor": 2
}
